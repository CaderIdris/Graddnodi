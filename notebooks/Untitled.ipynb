{
 "cells": [
  {
   "cell_type": "code",
   "execution_count": 2,
   "id": "fe3eccbf-398a-4fc8-8aaf-783fd8f715cc",
   "metadata": {},
   "outputs": [
    {
     "data": {
      "text/plain": [
       "PosixPath('/var/mnt/Little Guy/Graddnodi/Output')"
      ]
     },
     "execution_count": 2,
     "metadata": {},
     "output_type": "execute_result"
    }
   ],
   "source": [
    "import os\n",
    "from pathlib import Path\n",
    "\n",
    "output_path = Path(os.getenv('GRADDNODI_OUTPUT'))\n",
    "output_path"
   ]
  },
  {
   "cell_type": "code",
   "execution_count": 4,
   "id": "f054b18e-cf72-471c-89b4-8edf5615f6f2",
   "metadata": {},
   "outputs": [
    {
     "name": "stdout",
     "output_type": "stream",
     "text": [
      "/var/mnt/Little Guy/Graddnodi/Output/Bushy Park\n",
      "/var/mnt/Little Guy/Graddnodi/Output/Cranfield\n"
     ]
    }
   ],
   "source": [
    "for study in output_path.glob(\"*\"):\n",
    "    print(study)"
   ]
  },
  {
   "cell_type": "code",
   "execution_count": null,
   "id": "42f2c554-8cf4-4c06-be05-5e75f1011ec6",
   "metadata": {},
   "outputs": [],
   "source": []
  }
 ],
 "metadata": {
  "kernelspec": {
   "display_name": "Python 3 (ipykernel)",
   "language": "python",
   "name": "python3"
  },
  "language_info": {
   "codemirror_mode": {
    "name": "ipython",
    "version": 3
   },
   "file_extension": ".py",
   "mimetype": "text/x-python",
   "name": "python",
   "nbconvert_exporter": "python",
   "pygments_lexer": "ipython3",
   "version": "3.11.7"
  }
 },
 "nbformat": 4,
 "nbformat_minor": 5
}
