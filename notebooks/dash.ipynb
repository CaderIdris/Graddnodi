{
 "cells": [
  {
   "cell_type": "code",
   "execution_count": 1,
   "id": "aae61933-73bd-4dd4-bdc5-c5fe9fbd55df",
   "metadata": {},
   "outputs": [],
   "source": [
    "import logging\n",
    "\n",
    "from dash import Dash, html, dash_table, dcc, callback, Output, Input\n",
    "import numpy as np\n",
    "import pandas as pd\n",
    "import plotly.express as px\n",
    "import plotly.graph_objects as go\n",
    "import dash_bootstrap_components as dbc\n",
    "\n",
    "e = list()"
   ]
  },
  {
   "cell_type": "code",
   "execution_count": 2,
   "id": "a9b3d288-a454-412e-a8be-76f7026d986b",
   "metadata": {},
   "outputs": [
    {
     "data": {
      "text/plain": [
       "Index(['Technique', 'Scaling Method', 'Variables', 'Fold',\n",
       "       'Explained Variance Score', 'Max Error', 'Mean Absolute Error',\n",
       "       'Root Mean Squared Error', 'Median Absolute Error',\n",
       "       'Mean Absolute Percentage Error', 'r2', 'Field', 'Comparison'],\n",
       "      dtype='object')"
      ]
     },
     "execution_count": 2,
     "metadata": {},
     "output_type": "execute_result"
    }
   ],
   "source": [
    "errors = pd.read_csv('../RESULTS.csv').set_index('Unnamed: 0')\n",
    "errors['Scaling Method'] = errors['Scaling Method'].fillna('None')\n",
    "errors.columns"
   ]
  },
  {
   "cell_type": "code",
   "execution_count": 3,
   "id": "e3f8bc7a-948e-40e2-90ce-5ed2a991ca45",
   "metadata": {},
   "outputs": [],
   "source": [
    "external_stylesheets = [dbc.themes.MORPH]\n",
    "app = Dash(__name__, external_stylesheets=external_stylesheets)"
   ]
  },
  {
   "cell_type": "code",
   "execution_count": 4,
   "id": "c717d5c1-daca-4bb7-8be7-5bc4263af487",
   "metadata": {},
   "outputs": [
    {
     "name": "stdout",
     "output_type": "stream",
     "text": [
      "['AirView Low-Cost B vs Bushy Park FDMS' 'Nova Sensor A vs Bushy Park OPC'\n",
      " 'Nova Sensor B vs Bushy Park FDMS'\n",
      " 'AirView Low-Cost A vs Bushy Park FDMS'\n",
      " 'Nova Sensor A vs AirView Reference A'\n",
      " 'AirView Reference B vs AirView Reference A'\n",
      " 'Nova Sensor A vs Bushy Park FDMS'\n",
      " 'AirView Low-Cost B vs AirView Reference A'\n",
      " 'Nova Sensor B vs AirView Reference A'\n",
      " 'AirView Reference A vs Bushy Park FDMS'\n",
      " 'AirView Reference B vs Bushy Park FDMS'\n",
      " 'Nova Sensor B vs Bushy Park OPC'\n",
      " 'AirView Low-Cost A vs AirView Reference A']\n",
      "['PM2.5' 'PM10' 'PM4' 'PM1']\n",
      "['Bayesian Automatic Relevance Detection' 'Bayesian Ridge Regression'\n",
      " 'Decision Tree' 'Gradient Boosting Regression' 'Linear Regression'\n",
      " 'RANSAC' 'Lasso Regression' 'Support Vector Regression'\n",
      " 'Lasso Regression (Cross Validated)' 'Multi-Layer Perceptron Regression'\n",
      " 'Quantile Regression' 'Least Angle Lasso Regression'\n",
      " 'Least Angle Regression' 'Linear Support Vector Regression'\n",
      " 'Isotonic Regression' 'Passive Aggressive Regression' 'Huber Regression'\n",
      " 'XGBoost Regression' 'Extra Tree' 'Ridge Regression (Cross Validated)'\n",
      " 'Elastic Net Regression (Cross Validated)' 'Tweedie Regression'\n",
      " 'Ridge Regression' 'Histogram-Based Gradient Boosting Regression'\n",
      " 'Elastic Net Regression' 'Stochastic Gradient Descent'\n",
      " 'Nu-Support Vector Regression' 'XGBoost Random Forest Regression'\n",
      " 'Theil-Sen Regression' 'Random Forest' 'Extra Trees Ensemble']\n",
      "['None' 'Quantile Transform (Gaussian)' 'MinMax Scale' 'Standard Scale'\n",
      " 'Quantile Transform (Uniform)' 'Yeo-Johnson Transform'\n",
      " 'Box-Cox Transform']\n",
      "['PM2.5' 'PM10' 'PM4' 'PM1']\n"
     ]
    }
   ],
   "source": [
    "radio_options = list()\n",
    "for col in ['Comparison', 'Field', 'Technique', 'Scaling Method', 'Variables']:\n",
    "    print(errors[col].unique())\n",
    "    radio_options.append(dbc.Col([dcc.Checklist(np.sort(errors[col].unique()), id=col)], width=\"auto\", style={ \"overflow-y\":\"scroll\", \"height\": \"100px\"}))\n",
    "\n",
    "@callback(\n",
    "    Output('filtered_df', 'data'),\n",
    "    Input('Comparison', 'value'),\n",
    "    Input('Field', 'value'),\n",
    "    Input('Technique', 'value'),\n",
    "    Input('Scaling Method', 'value'),\n",
    "    Input('Variables', 'value'),\n",
    ")\n",
    "def choose_data(comp, field, tech, sca, var):\n",
    "    options = {\n",
    "        \"Comparison\": comp,\n",
    "        \"Field\": field,\n",
    "        \"Technique\": tech,\n",
    "        \"Scaling Method\": sca,\n",
    "        \"Variables\": var\n",
    "    }\n",
    "    df = errors.copy(deep=True)\n",
    "\n",
    "    for label, col in options.items():\n",
    "\n",
    "        if not col:\n",
    "            col_a = list(errors[label].unique())\n",
    "        else:\n",
    "            col_a = col\n",
    "\n",
    "        df = df[df[label].isin(col_a)]\n",
    "    return df.to_json(orient='split')\n",
    "\n",
    "@callback(Output('error-table', 'figure'), Input('filtered_df', 'data'))\n",
    "def update_table(jsonified_cleaned_data):\n",
    "    df = pd.read_json(jsonified_cleaned_data, orient='split')\n",
    "    fig = go.Figure(data=[go.Table(\n",
    "    header=dict(values=list(df.columns),\n",
    "                fill_color='paleturquoise',\n",
    "                align='left'),\n",
    "    cells=dict(values=df.transpose().values.tolist(),\n",
    "               fill_color='lavender',\n",
    "               align='left'))\n",
    "    ])\n",
    "    return fig\n",
    "\n",
    "@callback(Output('box-plot-rel', 'figure'), Input('filtered_df', 'data'))\n",
    "def boxplot(jsonified_cleaned_data):\n",
    "    df = pd.read_json(jsonified_cleaned_data, orient='split')\n",
    "    fig = px.box(df, y=[\"r2\", 'Explained Variance Score', 'Mean Absolute Percentage Error'], points=\"all\", hover_data=['Comparison', 'Field', 'Technique', 'Scaling Method', 'Variables', 'Fold'], range_y=[0,1])\n",
    "\n",
    "    return fig\n",
    "\n",
    "@callback(Output('box-plot-raw', 'figure'), Input('filtered_df', 'data'))\n",
    "def boxplot(jsonified_cleaned_data):\n",
    "    df = pd.read_json(jsonified_cleaned_data, orient='split')\n",
    "    fig = px.box(df, y=['Max Error', 'Mean Absolute Error', 'Root Mean Squared Error', 'Median Absolute Error'], points=\"all\", hover_data=['Comparison', 'Field', 'Technique', 'Scaling Method', 'Variables', 'Fold'], range_y=[\n",
    "       0, 1000\n",
    "    ])\n",
    "\n",
    "    return fig\n",
    "    "
   ]
  },
  {
   "cell_type": "code",
   "execution_count": 5,
   "id": "b13899f6-21f6-480f-8eb2-f3af524be95e",
   "metadata": {},
   "outputs": [],
   "source": [
    "app.layout = dbc.Container([\n",
    "    dbc.Row([\n",
    "        html.Div('Graddnodi', className=\"text-primary text-center fs-3\")\n",
    "    ]),\n",
    "\n",
    "    dbc.Row(radio_options, justify=\"center\", align=\"start\"),\n",
    "    dbc.Row(\n",
    "        [\n",
    "            dcc.Graph(figure={}, id='error-table')\n",
    "        ]\n",
    "    ),\n",
    "    dbc.Row(\n",
    "        [\n",
    "            dbc.Col([dcc.Graph(figure={}, id='box-plot-rel')]),\n",
    "            dbc.Col([dcc.Graph(figure={}, id='box-plot-raw')]),\n",
    "        ]\n",
    "    ),\n",
    "    dcc.Store(id='filtered_df')\n",
    "\n",
    "], fluid=True)"
   ]
  },
  {
   "cell_type": "code",
   "execution_count": 6,
   "id": "fd20e305-64f7-4131-bbcd-e9a76c221b94",
   "metadata": {},
   "outputs": [
    {
     "data": {
      "text/plain": [
       "Index(['Technique', 'Scaling Method', 'Variables', 'Fold',\n",
       "       'Explained Variance Score', 'Max Error', 'Mean Absolute Error',\n",
       "       'Root Mean Squared Error', 'Median Absolute Error',\n",
       "       'Mean Absolute Percentage Error', 'r2', 'Field', 'Comparison'],\n",
       "      dtype='object')"
      ]
     },
     "execution_count": 6,
     "metadata": {},
     "output_type": "execute_result"
    }
   ],
   "source": [
    "errors.columns"
   ]
  },
  {
   "cell_type": "code",
   "execution_count": 7,
   "id": "6705bb60-9456-4e7c-b772-658a9f284439",
   "metadata": {},
   "outputs": [
    {
     "name": "stdout",
     "output_type": "stream",
     "text": [
      "Dash app running on http://127.0.0.1:8050/\n"
     ]
    }
   ],
   "source": [
    "app.run(jupyter_mode=\"external\")"
   ]
  },
  {
   "cell_type": "code",
   "execution_count": 8,
   "id": "52b7c153-3c5e-4965-812a-2d683190ab2c",
   "metadata": {},
   "outputs": [
    {
     "name": "stdout",
     "output_type": "stream",
     "text": [
      "[]\n"
     ]
    }
   ],
   "source": [
    "print(e)"
   ]
  },
  {
   "cell_type": "code",
   "execution_count": null,
   "id": "c4cddbb4-ca5a-4d43-ad0c-b70e2c80c37d",
   "metadata": {},
   "outputs": [],
   "source": []
  }
 ],
 "metadata": {
  "kernelspec": {
   "display_name": "Python 3 (ipykernel)",
   "language": "python",
   "name": "python3"
  },
  "language_info": {
   "codemirror_mode": {
    "name": "ipython",
    "version": 3
   },
   "file_extension": ".py",
   "mimetype": "text/x-python",
   "name": "python",
   "nbconvert_exporter": "python",
   "pygments_lexer": "ipython3",
   "version": "3.11.5"
  }
 },
 "nbformat": 4,
 "nbformat_minor": 5
}
