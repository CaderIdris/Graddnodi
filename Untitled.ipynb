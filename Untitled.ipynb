{
 "cells": [
  {
   "cell_type": "code",
   "execution_count": 1,
   "id": "f94e0d22-b1a3-4618-87a8-05eb561fe244",
   "metadata": {},
   "outputs": [
    {
     "name": "stdout",
     "output_type": "stream",
     "text": [
      "None\n"
     ]
    }
   ],
   "source": [
    "import datetime as dt\n",
    "import sqlite3 as sql\n",
    "import os\n",
    "from pathlib import Path\n",
    "import pickle\n",
    "import re\n",
    "\n",
    "from distfit import distfit\n",
    "import matplotlib.pyplot as plt\n",
    "import pandas as pd\n",
    "\n",
    "import logging, sys\n",
    "logging.disable(sys.maxsize)\n",
    "\n",
    "print(os.getenv('GRADDNODI_OUTPUT'))\n",
    "\n",
    "def results_comp(study):\n",
    "    results = list()\n",
    "    comparisons = [d for d in Path(f'/var/mnt/Little Guy/Graddnodi/Output/{study}/Matched Measurements/').glob('**/*.db')]\n",
    "    results_db_path = Path(f'/var/mnt/Little Guy/Graddnodi/Output/{study}/Results/Results.db')\n",
    "\n",
    "    results_con = sql.connect(results_db_path)\n",
    "    for db in comparisons:\n",
    "        dfit = distfit(distr='norm')\n",
    "        comp_name = db.parts[-2]\n",
    "        pollutant = db.stem\n",
    "        if pollutant in [\"NO\", \"PM4\", \"PM1\"]:\n",
    "            continue\n",
    "        cg = re.search(r\"(?P<calibrated>.*) vs (?P<reference>.*)\", comp_name)\n",
    "        x_name = cg.group('calibrated')\n",
    "        y_name = cg.group('reference')\n",
    "        con = sql.connect(db)\n",
    "        x_df = pd.read_sql('SELECT * FROM x', con=con)[pollutant]\n",
    "        y_df = pd.read_sql('SELECT * FROM y', con=con)[pollutant]\n",
    "        print(comp_name, pollutant, x_name, y_name)\n",
    "\n",
    "        dfit.fit_transform(x_df)\n",
    "        dfit.plot()\n",
    "        plt.savefig(f'img/{comp_name} {pollutant} - x.png')\n",
    "        plt.close()\n",
    "        x_dict = dict(dfit.model)\n",
    "        x_dict['Comparison'] = comp_name\n",
    "        x_dict['Pollutant'] = pollutant\n",
    "        x_dict['Device'] = 'x'\n",
    "        dfit.fit_transform(y_df)\n",
    "        dfit.plot()\n",
    "        plt.savefig(f'img/{comp_name} {pollutant} - y.png')\n",
    "        plt.close()\n",
    "        \n",
    "        results_db = pd.read_sql(f\"SELECT [Root Mean Squared Error], [Reference Mean] FROM Results WHERE Field = '{pollutant}' AND Reference = '{y_name}' AND Calibrated = '{x_name}';\", con=results_con)\n",
    "        normalised = results_db['Root Mean Squared Error'].div(results_db['Reference Mean']).median()\n",
    "        x_dict['Median Error'] = normalised\n",
    "        \"\"\"\n",
    "        y_dict = dict(dfit.model)\n",
    "        y_dict['Comparison'] = comp_name\n",
    "        y_dict['Pollutant'] = pollutant\n",
    "        y_dict['Device'] = 'y'\n",
    "        con.close()\n",
    "        \"\"\"\n",
    "        results.extend([pd.Series(x_dict)])#, pd.Series(y_dict)])\n",
    "        \n",
    "    results_con.close()\n",
    "    results_df = pd.DataFrame(results)\n",
    "    results_df = results_df.rename(columns={'score': 'Residual Sum of Squares'})\n",
    "    display(results_df)\n",
    "    if study != \"Bushy Park\":\n",
    "        results_df.plot.scatter('Residual Sum of Squares', 'Median Error', ylim=(0, 1), logx=True, logy=True)\n",
    "    else:\n",
    "        results_df[\n",
    "            results_df['Comparison'].isin(['NPL AQMesh A vs AirView Reference A', 'NPL AQMesh B vs AirView Reference B'])\n",
    "        ].plot.scatter('Residual Sum of Squares', 'Median Error', ylim=(0, 1), logx=True, logy=True)\n",
    "    plt.show()\n",
    "    \n",
    "    \n",
    "    with open(f'{study}.pkl', 'wb') as pkl:\n",
    "        pickle.dump(results_df, pkl)\n",
    "\n",
    "    for pol, data in results_df.groupby('Pollutant'):\n",
    "        print(pol)\n",
    "        plt.close()\n",
    "        data[['loc', 'scale']].boxplot()\n",
    "        plt.show()"
   ]
  },
  {
   "cell_type": "code",
   "execution_count": 2,
   "id": "d5fc6c57-12b0-41fe-8119-deaca72272ec",
   "metadata": {
    "tags": []
   },
   "outputs": [
    {
     "name": "stdout",
     "output_type": "stream",
     "text": [
      "AirView Reference A vs Bushy Park FDMS PM2.5 AirView Reference A Bushy Park FDMS\n",
      "AirView Reference B vs Bushy Park FDMS PM2.5 AirView Reference B Bushy Park FDMS\n",
      "Nova Sensor A vs Bushy Park FDMS PM2.5 Nova Sensor A Bushy Park FDMS\n",
      "Nova Sensor B vs Bushy Park FDMS PM2.5 Nova Sensor B Bushy Park FDMS\n",
      "AirView Low-Cost A vs Bushy Park FDMS PM2.5 AirView Low-Cost A Bushy Park FDMS\n",
      "AirView Low-Cost B vs Bushy Park FDMS PM2.5 AirView Low-Cost B Bushy Park FDMS\n",
      "NPL AQMesh A vs Bushy Park FDMS PM2.5 NPL AQMesh A Bushy Park FDMS\n",
      "NPL AQMesh B vs Bushy Park FDMS PM2.5 NPL AQMesh B Bushy Park FDMS\n",
      "Breathe London AQMesh vs Bushy Park FDMS PM2.5 Breathe London AQMesh Bushy Park FDMS\n",
      "NPL AQMesh C vs Bushy Park FDMS PM2.5 NPL AQMesh C Bushy Park FDMS\n",
      "Nova Sensor A vs Bushy Park OPC PM2.5 Nova Sensor A Bushy Park OPC\n",
      "Nova Sensor A vs Bushy Park OPC PM10 Nova Sensor A Bushy Park OPC\n",
      "Nova Sensor B vs Bushy Park OPC PM2.5 Nova Sensor B Bushy Park OPC\n",
      "Nova Sensor B vs Bushy Park OPC PM10 Nova Sensor B Bushy Park OPC\n",
      "NPL AQMesh A vs Bushy Park OPC PM2.5 NPL AQMesh A Bushy Park OPC\n",
      "NPL AQMesh A vs Bushy Park OPC PM10 NPL AQMesh A Bushy Park OPC\n",
      "NPL AQMesh B vs Bushy Park OPC PM2.5 NPL AQMesh B Bushy Park OPC\n",
      "NPL AQMesh B vs Bushy Park OPC PM10 NPL AQMesh B Bushy Park OPC\n",
      "Breathe London AQMesh vs Bushy Park OPC PM2.5 Breathe London AQMesh Bushy Park OPC\n",
      "Breathe London AQMesh vs Bushy Park OPC PM10 Breathe London AQMesh Bushy Park OPC\n",
      "NPL AQMesh C vs Bushy Park OPC PM2.5 NPL AQMesh C Bushy Park OPC\n",
      "NPL AQMesh C vs Bushy Park OPC PM10 NPL AQMesh C Bushy Park OPC\n",
      "AirView Reference B vs AirView Reference A PM2.5 AirView Reference B AirView Reference A\n",
      "AirView Reference B vs AirView Reference A PM10 AirView Reference B AirView Reference A\n",
      "AirView Reference B vs AirView Reference A NO2 AirView Reference B AirView Reference A\n",
      "AirView Reference B vs AirView Reference A O3 AirView Reference B AirView Reference A\n",
      "Nova Sensor A vs AirView Reference A PM2.5 Nova Sensor A AirView Reference A\n",
      "Nova Sensor A vs AirView Reference A PM10 Nova Sensor A AirView Reference A\n",
      "Nova Sensor B vs AirView Reference A PM2.5 Nova Sensor B AirView Reference A\n",
      "Nova Sensor B vs AirView Reference A PM10 Nova Sensor B AirView Reference A\n",
      "AirView Low-Cost A vs AirView Reference A PM2.5 AirView Low-Cost A AirView Reference A\n",
      "AirView Low-Cost B vs AirView Reference A PM2.5 AirView Low-Cost B AirView Reference A\n",
      "NPL AQMesh A vs AirView Reference A PM2.5 NPL AQMesh A AirView Reference A\n",
      "NPL AQMesh A vs AirView Reference A PM10 NPL AQMesh A AirView Reference A\n",
      "NPL AQMesh A vs AirView Reference A NO2 NPL AQMesh A AirView Reference A\n",
      "NPL AQMesh A vs AirView Reference A O3 NPL AQMesh A AirView Reference A\n",
      "NPL AQMesh B vs AirView Reference A PM2.5 NPL AQMesh B AirView Reference A\n",
      "NPL AQMesh B vs AirView Reference A PM10 NPL AQMesh B AirView Reference A\n",
      "NPL AQMesh B vs AirView Reference A NO2 NPL AQMesh B AirView Reference A\n",
      "NPL AQMesh B vs AirView Reference A O3 NPL AQMesh B AirView Reference A\n",
      "Breathe London AQMesh vs AirView Reference A PM2.5 Breathe London AQMesh AirView Reference A\n",
      "Breathe London AQMesh vs AirView Reference A PM10 Breathe London AQMesh AirView Reference A\n",
      "Breathe London AQMesh vs AirView Reference A NO2 Breathe London AQMesh AirView Reference A\n",
      "Breathe London AQMesh vs AirView Reference A O3 Breathe London AQMesh AirView Reference A\n",
      "NPL AQMesh C vs AirView Reference A PM2.5 NPL AQMesh C AirView Reference A\n",
      "NPL AQMesh C vs AirView Reference A PM10 NPL AQMesh C AirView Reference A\n",
      "NPL AQMesh C vs AirView Reference A NO2 NPL AQMesh C AirView Reference A\n",
      "NPL AQMesh C vs AirView Reference A O3 NPL AQMesh C AirView Reference A\n",
      "Nova Sensor A vs AirView Reference B PM2.5 Nova Sensor A AirView Reference B\n",
      "Nova Sensor A vs AirView Reference B PM10 Nova Sensor A AirView Reference B\n",
      "Nova Sensor B vs AirView Reference B PM2.5 Nova Sensor B AirView Reference B\n",
      "Nova Sensor B vs AirView Reference B PM10 Nova Sensor B AirView Reference B\n",
      "AirView Low-Cost A vs AirView Reference B PM2.5 AirView Low-Cost A AirView Reference B\n",
      "AirView Low-Cost B vs AirView Reference B PM2.5 AirView Low-Cost B AirView Reference B\n",
      "NPL AQMesh A vs AirView Reference B PM2.5 NPL AQMesh A AirView Reference B\n",
      "NPL AQMesh A vs AirView Reference B PM10 NPL AQMesh A AirView Reference B\n",
      "NPL AQMesh A vs AirView Reference B NO2 NPL AQMesh A AirView Reference B\n",
      "NPL AQMesh A vs AirView Reference B O3 NPL AQMesh A AirView Reference B\n",
      "NPL AQMesh B vs AirView Reference B PM2.5 NPL AQMesh B AirView Reference B\n",
      "NPL AQMesh B vs AirView Reference B PM10 NPL AQMesh B AirView Reference B\n",
      "NPL AQMesh B vs AirView Reference B NO2 NPL AQMesh B AirView Reference B\n",
      "NPL AQMesh B vs AirView Reference B O3 NPL AQMesh B AirView Reference B\n",
      "Breathe London AQMesh vs AirView Reference B PM2.5 Breathe London AQMesh AirView Reference B\n",
      "Breathe London AQMesh vs AirView Reference B PM10 Breathe London AQMesh AirView Reference B\n",
      "Breathe London AQMesh vs AirView Reference B NO2 Breathe London AQMesh AirView Reference B\n",
      "Breathe London AQMesh vs AirView Reference B O3 Breathe London AQMesh AirView Reference B\n",
      "NPL AQMesh C vs AirView Reference B PM2.5 NPL AQMesh C AirView Reference B\n",
      "NPL AQMesh C vs AirView Reference B PM10 NPL AQMesh C AirView Reference B\n",
      "NPL AQMesh C vs AirView Reference B NO2 NPL AQMesh C AirView Reference B\n",
      "NPL AQMesh C vs AirView Reference B O3 NPL AQMesh C AirView Reference B\n",
      "Nova Sensor B vs Nova Sensor A PM2.5 Nova Sensor B Nova Sensor A\n",
      "Nova Sensor B vs Nova Sensor A PM10 Nova Sensor B Nova Sensor A\n",
      "AirView Low-Cost A vs Nova Sensor A PM2.5 AirView Low-Cost A Nova Sensor A\n",
      "AirView Low-Cost B vs Nova Sensor A PM2.5 AirView Low-Cost B Nova Sensor A\n",
      "NPL AQMesh A vs Nova Sensor A PM2.5 NPL AQMesh A Nova Sensor A\n",
      "NPL AQMesh A vs Nova Sensor A PM10 NPL AQMesh A Nova Sensor A\n",
      "NPL AQMesh B vs Nova Sensor A PM2.5 NPL AQMesh B Nova Sensor A\n",
      "NPL AQMesh B vs Nova Sensor A PM10 NPL AQMesh B Nova Sensor A\n",
      "Breathe London AQMesh vs Nova Sensor A PM2.5 Breathe London AQMesh Nova Sensor A\n",
      "Breathe London AQMesh vs Nova Sensor A PM10 Breathe London AQMesh Nova Sensor A\n",
      "NPL AQMesh C vs Nova Sensor A PM2.5 NPL AQMesh C Nova Sensor A\n",
      "NPL AQMesh C vs Nova Sensor A PM10 NPL AQMesh C Nova Sensor A\n",
      "AirView Low-Cost A vs Nova Sensor B PM2.5 AirView Low-Cost A Nova Sensor B\n",
      "AirView Low-Cost B vs Nova Sensor B PM2.5 AirView Low-Cost B Nova Sensor B\n",
      "NPL AQMesh A vs Nova Sensor B PM2.5 NPL AQMesh A Nova Sensor B\n",
      "NPL AQMesh A vs Nova Sensor B PM10 NPL AQMesh A Nova Sensor B\n",
      "NPL AQMesh B vs Nova Sensor B PM2.5 NPL AQMesh B Nova Sensor B\n",
      "NPL AQMesh B vs Nova Sensor B PM10 NPL AQMesh B Nova Sensor B\n",
      "Breathe London AQMesh vs Nova Sensor B PM2.5 Breathe London AQMesh Nova Sensor B\n",
      "Breathe London AQMesh vs Nova Sensor B PM10 Breathe London AQMesh Nova Sensor B\n",
      "NPL AQMesh C vs Nova Sensor B PM2.5 NPL AQMesh C Nova Sensor B\n",
      "NPL AQMesh C vs Nova Sensor B PM10 NPL AQMesh C Nova Sensor B\n",
      "AirView Low-Cost B vs AirView Low-Cost A PM2.5 AirView Low-Cost B AirView Low-Cost A\n",
      "NPL AQMesh A vs AirView Low-Cost A PM2.5 NPL AQMesh A AirView Low-Cost A\n",
      "NPL AQMesh B vs AirView Low-Cost A PM2.5 NPL AQMesh B AirView Low-Cost A\n",
      "Breathe London AQMesh vs AirView Low-Cost A PM2.5 Breathe London AQMesh AirView Low-Cost A\n",
      "NPL AQMesh C vs AirView Low-Cost A PM2.5 NPL AQMesh C AirView Low-Cost A\n",
      "NPL AQMesh A vs AirView Low-Cost B PM2.5 NPL AQMesh A AirView Low-Cost B\n",
      "NPL AQMesh B vs AirView Low-Cost B PM2.5 NPL AQMesh B AirView Low-Cost B\n",
      "Breathe London AQMesh vs AirView Low-Cost B PM2.5 Breathe London AQMesh AirView Low-Cost B\n",
      "NPL AQMesh C vs AirView Low-Cost B PM2.5 NPL AQMesh C AirView Low-Cost B\n",
      "NPL AQMesh B vs NPL AQMesh A PM2.5 NPL AQMesh B NPL AQMesh A\n",
      "NPL AQMesh B vs NPL AQMesh A PM10 NPL AQMesh B NPL AQMesh A\n",
      "NPL AQMesh B vs NPL AQMesh A NO2 NPL AQMesh B NPL AQMesh A\n",
      "NPL AQMesh B vs NPL AQMesh A O3 NPL AQMesh B NPL AQMesh A\n",
      "Breathe London AQMesh vs NPL AQMesh A PM2.5 Breathe London AQMesh NPL AQMesh A\n",
      "Breathe London AQMesh vs NPL AQMesh A PM10 Breathe London AQMesh NPL AQMesh A\n",
      "Breathe London AQMesh vs NPL AQMesh A NO2 Breathe London AQMesh NPL AQMesh A\n",
      "Breathe London AQMesh vs NPL AQMesh A O3 Breathe London AQMesh NPL AQMesh A\n",
      "NPL AQMesh C vs NPL AQMesh A PM2.5 NPL AQMesh C NPL AQMesh A\n",
      "NPL AQMesh C vs NPL AQMesh A PM10 NPL AQMesh C NPL AQMesh A\n",
      "NPL AQMesh C vs NPL AQMesh A NO2 NPL AQMesh C NPL AQMesh A\n",
      "NPL AQMesh C vs NPL AQMesh A O3 NPL AQMesh C NPL AQMesh A\n",
      "Breathe London AQMesh vs NPL AQMesh B PM2.5 Breathe London AQMesh NPL AQMesh B\n",
      "Breathe London AQMesh vs NPL AQMesh B PM10 Breathe London AQMesh NPL AQMesh B\n",
      "Breathe London AQMesh vs NPL AQMesh B NO2 Breathe London AQMesh NPL AQMesh B\n",
      "Breathe London AQMesh vs NPL AQMesh B O3 Breathe London AQMesh NPL AQMesh B\n",
      "NPL AQMesh C vs NPL AQMesh B PM2.5 NPL AQMesh C NPL AQMesh B\n",
      "NPL AQMesh C vs NPL AQMesh B PM10 NPL AQMesh C NPL AQMesh B\n",
      "NPL AQMesh C vs NPL AQMesh B NO2 NPL AQMesh C NPL AQMesh B\n",
      "NPL AQMesh C vs NPL AQMesh B O3 NPL AQMesh C NPL AQMesh B\n",
      "NPL AQMesh C vs Breathe London AQMesh PM2.5 NPL AQMesh C Breathe London AQMesh\n",
      "NPL AQMesh C vs Breathe London AQMesh PM10 NPL AQMesh C Breathe London AQMesh\n",
      "NPL AQMesh C vs Breathe London AQMesh NO2 NPL AQMesh C Breathe London AQMesh\n",
      "NPL AQMesh C vs Breathe London AQMesh O3 NPL AQMesh C Breathe London AQMesh\n"
     ]
    },
    {
     "data": {
      "text/html": [
       "<div>\n",
       "<style scoped>\n",
       "    .dataframe tbody tr th:only-of-type {\n",
       "        vertical-align: middle;\n",
       "    }\n",
       "\n",
       "    .dataframe tbody tr th {\n",
       "        vertical-align: top;\n",
       "    }\n",
       "\n",
       "    .dataframe thead th {\n",
       "        text-align: right;\n",
       "    }\n",
       "</style>\n",
       "<table border=\"1\" class=\"dataframe\">\n",
       "  <thead>\n",
       "    <tr style=\"text-align: right;\">\n",
       "      <th></th>\n",
       "      <th>name</th>\n",
       "      <th>Residual Sum of Squares</th>\n",
       "      <th>loc</th>\n",
       "      <th>scale</th>\n",
       "      <th>arg</th>\n",
       "      <th>params</th>\n",
       "      <th>model</th>\n",
       "      <th>bootstrap_score</th>\n",
       "      <th>bootstrap_pass</th>\n",
       "      <th>color</th>\n",
       "      <th>CII_min_alpha</th>\n",
       "      <th>CII_max_alpha</th>\n",
       "      <th>Comparison</th>\n",
       "      <th>Pollutant</th>\n",
       "      <th>Device</th>\n",
       "      <th>Median Error</th>\n",
       "    </tr>\n",
       "  </thead>\n",
       "  <tbody>\n",
       "    <tr>\n",
       "      <th>0</th>\n",
       "      <td>norm</td>\n",
       "      <td>0.040105</td>\n",
       "      <td>9.414187</td>\n",
       "      <td>9.745698</td>\n",
       "      <td>()</td>\n",
       "      <td>(9.414186984744818, 9.745698017324264)</td>\n",
       "      <td>&lt;scipy.stats._distn_infrastructure.rv_continuo...</td>\n",
       "      <td>0</td>\n",
       "      <td>None</td>\n",
       "      <td>#e41a1c</td>\n",
       "      <td>-6.616060</td>\n",
       "      <td>25.444434</td>\n",
       "      <td>AirView Reference A vs Bushy Park FDMS</td>\n",
       "      <td>PM2.5</td>\n",
       "      <td>x</td>\n",
       "      <td>0.281867</td>\n",
       "    </tr>\n",
       "    <tr>\n",
       "      <th>1</th>\n",
       "      <td>norm</td>\n",
       "      <td>0.031989</td>\n",
       "      <td>9.707076</td>\n",
       "      <td>9.649229</td>\n",
       "      <td>()</td>\n",
       "      <td>(9.707075819119504, 9.649229308523884)</td>\n",
       "      <td>&lt;scipy.stats._distn_infrastructure.rv_continuo...</td>\n",
       "      <td>0</td>\n",
       "      <td>None</td>\n",
       "      <td>#e41a1c</td>\n",
       "      <td>-6.164494</td>\n",
       "      <td>25.578646</td>\n",
       "      <td>AirView Reference B vs Bushy Park FDMS</td>\n",
       "      <td>PM2.5</td>\n",
       "      <td>x</td>\n",
       "      <td>0.275835</td>\n",
       "    </tr>\n",
       "    <tr>\n",
       "      <th>2</th>\n",
       "      <td>norm</td>\n",
       "      <td>0.050495</td>\n",
       "      <td>9.425315</td>\n",
       "      <td>10.547691</td>\n",
       "      <td>()</td>\n",
       "      <td>(9.42531462332499, 10.547691073251004)</td>\n",
       "      <td>&lt;scipy.stats._distn_infrastructure.rv_continuo...</td>\n",
       "      <td>0</td>\n",
       "      <td>None</td>\n",
       "      <td>#e41a1c</td>\n",
       "      <td>-7.924093</td>\n",
       "      <td>26.774723</td>\n",
       "      <td>Nova Sensor A vs Bushy Park FDMS</td>\n",
       "      <td>PM2.5</td>\n",
       "      <td>x</td>\n",
       "      <td>0.309659</td>\n",
       "    </tr>\n",
       "    <tr>\n",
       "      <th>3</th>\n",
       "      <td>norm</td>\n",
       "      <td>0.050495</td>\n",
       "      <td>9.425315</td>\n",
       "      <td>10.547691</td>\n",
       "      <td>()</td>\n",
       "      <td>(9.42531462332499, 10.547691073251004)</td>\n",
       "      <td>&lt;scipy.stats._distn_infrastructure.rv_continuo...</td>\n",
       "      <td>0</td>\n",
       "      <td>None</td>\n",
       "      <td>#e41a1c</td>\n",
       "      <td>-7.924093</td>\n",
       "      <td>26.774723</td>\n",
       "      <td>Nova Sensor B vs Bushy Park FDMS</td>\n",
       "      <td>PM2.5</td>\n",
       "      <td>x</td>\n",
       "      <td>0.309659</td>\n",
       "    </tr>\n",
       "    <tr>\n",
       "      <th>4</th>\n",
       "      <td>norm</td>\n",
       "      <td>0.020211</td>\n",
       "      <td>11.834954</td>\n",
       "      <td>14.057724</td>\n",
       "      <td>()</td>\n",
       "      <td>(11.834954258046961, 14.05772387722451)</td>\n",
       "      <td>&lt;scipy.stats._distn_infrastructure.rv_continuo...</td>\n",
       "      <td>0</td>\n",
       "      <td>None</td>\n",
       "      <td>#e41a1c</td>\n",
       "      <td>-11.287944</td>\n",
       "      <td>34.957852</td>\n",
       "      <td>AirView Low-Cost A vs Bushy Park FDMS</td>\n",
       "      <td>PM2.5</td>\n",
       "      <td>x</td>\n",
       "      <td>0.384674</td>\n",
       "    </tr>\n",
       "    <tr>\n",
       "      <th>...</th>\n",
       "      <td>...</td>\n",
       "      <td>...</td>\n",
       "      <td>...</td>\n",
       "      <td>...</td>\n",
       "      <td>...</td>\n",
       "      <td>...</td>\n",
       "      <td>...</td>\n",
       "      <td>...</td>\n",
       "      <td>...</td>\n",
       "      <td>...</td>\n",
       "      <td>...</td>\n",
       "      <td>...</td>\n",
       "      <td>...</td>\n",
       "      <td>...</td>\n",
       "      <td>...</td>\n",
       "      <td>...</td>\n",
       "    </tr>\n",
       "    <tr>\n",
       "      <th>120</th>\n",
       "      <td>norm</td>\n",
       "      <td>0.000150</td>\n",
       "      <td>72.881635</td>\n",
       "      <td>35.948993</td>\n",
       "      <td>()</td>\n",
       "      <td>(72.88163538100544, 35.94899261729049)</td>\n",
       "      <td>&lt;scipy.stats._distn_infrastructure.rv_continuo...</td>\n",
       "      <td>0</td>\n",
       "      <td>None</td>\n",
       "      <td>#e41a1c</td>\n",
       "      <td>13.750804</td>\n",
       "      <td>132.012466</td>\n",
       "      <td>NPL AQMesh C vs NPL AQMesh B</td>\n",
       "      <td>O3</td>\n",
       "      <td>x</td>\n",
       "      <td>0.477824</td>\n",
       "    </tr>\n",
       "    <tr>\n",
       "      <th>121</th>\n",
       "      <td>norm</td>\n",
       "      <td>0.024448</td>\n",
       "      <td>19.934395</td>\n",
       "      <td>38.050864</td>\n",
       "      <td>()</td>\n",
       "      <td>(19.934394693244666, 38.050864304641514)</td>\n",
       "      <td>&lt;scipy.stats._distn_infrastructure.rv_continuo...</td>\n",
       "      <td>0</td>\n",
       "      <td>None</td>\n",
       "      <td>#e41a1c</td>\n",
       "      <td>-42.653707</td>\n",
       "      <td>82.522497</td>\n",
       "      <td>NPL AQMesh C vs Breathe London AQMesh</td>\n",
       "      <td>PM2.5</td>\n",
       "      <td>x</td>\n",
       "      <td>0.706701</td>\n",
       "    </tr>\n",
       "    <tr>\n",
       "      <th>122</th>\n",
       "      <td>norm</td>\n",
       "      <td>0.006389</td>\n",
       "      <td>55.901694</td>\n",
       "      <td>104.696401</td>\n",
       "      <td>()</td>\n",
       "      <td>(55.90169355937922, 104.69640076978692)</td>\n",
       "      <td>&lt;scipy.stats._distn_infrastructure.rv_continuo...</td>\n",
       "      <td>0</td>\n",
       "      <td>None</td>\n",
       "      <td>#e41a1c</td>\n",
       "      <td>-116.308561</td>\n",
       "      <td>228.111948</td>\n",
       "      <td>NPL AQMesh C vs Breathe London AQMesh</td>\n",
       "      <td>PM10</td>\n",
       "      <td>x</td>\n",
       "      <td>0.742423</td>\n",
       "    </tr>\n",
       "    <tr>\n",
       "      <th>123</th>\n",
       "      <td>norm</td>\n",
       "      <td>0.008290</td>\n",
       "      <td>18.088153</td>\n",
       "      <td>7.126109</td>\n",
       "      <td>()</td>\n",
       "      <td>(18.088152785354417, 7.126109279175785)</td>\n",
       "      <td>&lt;scipy.stats._distn_infrastructure.rv_continuo...</td>\n",
       "      <td>0</td>\n",
       "      <td>None</td>\n",
       "      <td>#e41a1c</td>\n",
       "      <td>6.366746</td>\n",
       "      <td>29.809559</td>\n",
       "      <td>NPL AQMesh C vs Breathe London AQMesh</td>\n",
       "      <td>NO2</td>\n",
       "      <td>x</td>\n",
       "      <td>0.354703</td>\n",
       "    </tr>\n",
       "    <tr>\n",
       "      <th>124</th>\n",
       "      <td>norm</td>\n",
       "      <td>0.000206</td>\n",
       "      <td>74.799043</td>\n",
       "      <td>35.859345</td>\n",
       "      <td>()</td>\n",
       "      <td>(74.79904346265151, 35.85934495409567)</td>\n",
       "      <td>&lt;scipy.stats._distn_infrastructure.rv_continuo...</td>\n",
       "      <td>0</td>\n",
       "      <td>None</td>\n",
       "      <td>#e41a1c</td>\n",
       "      <td>15.815670</td>\n",
       "      <td>133.782417</td>\n",
       "      <td>NPL AQMesh C vs Breathe London AQMesh</td>\n",
       "      <td>O3</td>\n",
       "      <td>x</td>\n",
       "      <td>0.422529</td>\n",
       "    </tr>\n",
       "  </tbody>\n",
       "</table>\n",
       "<p>125 rows × 16 columns</p>\n",
       "</div>"
      ],
      "text/plain": [
       "     name  Residual Sum of Squares        loc       scale arg  \\\n",
       "0    norm                 0.040105   9.414187    9.745698  ()   \n",
       "1    norm                 0.031989   9.707076    9.649229  ()   \n",
       "2    norm                 0.050495   9.425315   10.547691  ()   \n",
       "3    norm                 0.050495   9.425315   10.547691  ()   \n",
       "4    norm                 0.020211  11.834954   14.057724  ()   \n",
       "..    ...                      ...        ...         ...  ..   \n",
       "120  norm                 0.000150  72.881635   35.948993  ()   \n",
       "121  norm                 0.024448  19.934395   38.050864  ()   \n",
       "122  norm                 0.006389  55.901694  104.696401  ()   \n",
       "123  norm                 0.008290  18.088153    7.126109  ()   \n",
       "124  norm                 0.000206  74.799043   35.859345  ()   \n",
       "\n",
       "                                       params  \\\n",
       "0      (9.414186984744818, 9.745698017324264)   \n",
       "1      (9.707075819119504, 9.649229308523884)   \n",
       "2      (9.42531462332499, 10.547691073251004)   \n",
       "3      (9.42531462332499, 10.547691073251004)   \n",
       "4     (11.834954258046961, 14.05772387722451)   \n",
       "..                                        ...   \n",
       "120    (72.88163538100544, 35.94899261729049)   \n",
       "121  (19.934394693244666, 38.050864304641514)   \n",
       "122   (55.90169355937922, 104.69640076978692)   \n",
       "123   (18.088152785354417, 7.126109279175785)   \n",
       "124    (74.79904346265151, 35.85934495409567)   \n",
       "\n",
       "                                                 model  bootstrap_score  \\\n",
       "0    <scipy.stats._distn_infrastructure.rv_continuo...                0   \n",
       "1    <scipy.stats._distn_infrastructure.rv_continuo...                0   \n",
       "2    <scipy.stats._distn_infrastructure.rv_continuo...                0   \n",
       "3    <scipy.stats._distn_infrastructure.rv_continuo...                0   \n",
       "4    <scipy.stats._distn_infrastructure.rv_continuo...                0   \n",
       "..                                                 ...              ...   \n",
       "120  <scipy.stats._distn_infrastructure.rv_continuo...                0   \n",
       "121  <scipy.stats._distn_infrastructure.rv_continuo...                0   \n",
       "122  <scipy.stats._distn_infrastructure.rv_continuo...                0   \n",
       "123  <scipy.stats._distn_infrastructure.rv_continuo...                0   \n",
       "124  <scipy.stats._distn_infrastructure.rv_continuo...                0   \n",
       "\n",
       "    bootstrap_pass    color  CII_min_alpha  CII_max_alpha  \\\n",
       "0             None  #e41a1c      -6.616060      25.444434   \n",
       "1             None  #e41a1c      -6.164494      25.578646   \n",
       "2             None  #e41a1c      -7.924093      26.774723   \n",
       "3             None  #e41a1c      -7.924093      26.774723   \n",
       "4             None  #e41a1c     -11.287944      34.957852   \n",
       "..             ...      ...            ...            ...   \n",
       "120           None  #e41a1c      13.750804     132.012466   \n",
       "121           None  #e41a1c     -42.653707      82.522497   \n",
       "122           None  #e41a1c    -116.308561     228.111948   \n",
       "123           None  #e41a1c       6.366746      29.809559   \n",
       "124           None  #e41a1c      15.815670     133.782417   \n",
       "\n",
       "                                 Comparison Pollutant Device  Median Error  \n",
       "0    AirView Reference A vs Bushy Park FDMS     PM2.5      x      0.281867  \n",
       "1    AirView Reference B vs Bushy Park FDMS     PM2.5      x      0.275835  \n",
       "2          Nova Sensor A vs Bushy Park FDMS     PM2.5      x      0.309659  \n",
       "3          Nova Sensor B vs Bushy Park FDMS     PM2.5      x      0.309659  \n",
       "4     AirView Low-Cost A vs Bushy Park FDMS     PM2.5      x      0.384674  \n",
       "..                                      ...       ...    ...           ...  \n",
       "120            NPL AQMesh C vs NPL AQMesh B        O3      x      0.477824  \n",
       "121   NPL AQMesh C vs Breathe London AQMesh     PM2.5      x      0.706701  \n",
       "122   NPL AQMesh C vs Breathe London AQMesh      PM10      x      0.742423  \n",
       "123   NPL AQMesh C vs Breathe London AQMesh       NO2      x      0.354703  \n",
       "124   NPL AQMesh C vs Breathe London AQMesh        O3      x      0.422529  \n",
       "\n",
       "[125 rows x 16 columns]"
      ]
     },
     "metadata": {},
     "output_type": "display_data"
    },
    {
     "data": {
      "image/png": "[encoded data removed]",
      "text/plain": [
       "<Figure size 640x480 with 1 Axes>"
      ]
     },
     "metadata": {},
     "output_type": "display_data"
    },
    {
     "name": "stdout",
     "output_type": "stream",
     "text": [
      "NO2\n"
     ]
    },
    {
     "data": {
      "image/png": "[encoded data removed]",
      "text/plain": [
       "<Figure size 640x480 with 1 Axes>"
      ]
     },
     "metadata": {},
     "output_type": "display_data"
    },
    {
     "name": "stdout",
     "output_type": "stream",
     "text": [
      "O3\n"
     ]
    },
    {
     "data": {
      "image/png": "[encoded data removed]",
      "text/plain": [
       "<Figure size 640x480 with 1 Axes>"
      ]
     },
     "metadata": {},
     "output_type": "display_data"
    },
    {
     "name": "stdout",
     "output_type": "stream",
     "text": [
      "PM10\n"
     ]
    },
    {
     "data": {
      "image/png": "[encoded data removed]",
      "text/plain": [
       "<Figure size 640x480 with 1 Axes>"
      ]
     },
     "metadata": {},
     "output_type": "display_data"
    },
    {
     "name": "stdout",
     "output_type": "stream",
     "text": [
      "PM2.5\n"
     ]
    },
    {
     "data": {
      "image/png": "[encoded data removed]",
      "text/plain": [
       "<Figure size 640x480 with 1 Axes>"
      ]
     },
     "metadata": {},
     "output_type": "display_data"
    }
   ],
   "source": [
    "results_comp('Bushy Park')"
   ]
  },
  {
   "cell_type": "code",
   "execution_count": 3,
   "id": "188552be-f129-4600-b6cf-d6da649962f3",
   "metadata": {
    "tags": []
   },
   "outputs": [
    {
     "name": "stdout",
     "output_type": "stream",
     "text": [
      "Zep_1107b vs Reference PM2.5 Zep_1107b Reference\n",
      "Zep_1107b vs Reference PM10 Zep_1107b Reference\n",
      "Zep_1107b vs Reference NO2 Zep_1107b Reference\n",
      "Zep_1107b vs Reference O3 Zep_1107b Reference\n",
      "Zep_753 vs Reference PM2.5 Zep_753 Reference\n",
      "Zep_753 vs Reference PM10 Zep_753 Reference\n",
      "Zep_753 vs Reference NO2 Zep_753 Reference\n",
      "Zep_753 vs Reference O3 Zep_753 Reference\n",
      "Zep_754 vs Reference PM2.5 Zep_754 Reference\n",
      "Zep_754 vs Reference PM10 Zep_754 Reference\n",
      "Zep_754 vs Reference NO2 Zep_754 Reference\n",
      "Zep_754 vs Reference O3 Zep_754 Reference\n",
      "Zep_757 vs Reference PM2.5 Zep_757 Reference\n",
      "Zep_757 vs Reference PM10 Zep_757 Reference\n",
      "Zep_757 vs Reference NO2 Zep_757 Reference\n",
      "Zep_757 vs Reference O3 Zep_757 Reference\n",
      "Zep_858 vs Reference PM2.5 Zep_858 Reference\n",
      "Zep_858 vs Reference PM10 Zep_858 Reference\n",
      "Zep_858 vs Reference NO2 Zep_858 Reference\n",
      "Zep_858 vs Reference O3 Zep_858 Reference\n"
     ]
    },
    {
     "data": {
      "text/html": [
       "<div>\n",
       "<style scoped>\n",
       "    .dataframe tbody tr th:only-of-type {\n",
       "        vertical-align: middle;\n",
       "    }\n",
       "\n",
       "    .dataframe tbody tr th {\n",
       "        vertical-align: top;\n",
       "    }\n",
       "\n",
       "    .dataframe thead th {\n",
       "        text-align: right;\n",
       "    }\n",
       "</style>\n",
       "<table border=\"1\" class=\"dataframe\">\n",
       "  <thead>\n",
       "    <tr style=\"text-align: right;\">\n",
       "      <th></th>\n",
       "      <th>name</th>\n",
       "      <th>Residual Sum of Squares</th>\n",
       "      <th>loc</th>\n",
       "      <th>scale</th>\n",
       "      <th>arg</th>\n",
       "      <th>params</th>\n",
       "      <th>model</th>\n",
       "      <th>bootstrap_score</th>\n",
       "      <th>bootstrap_pass</th>\n",
       "      <th>color</th>\n",
       "      <th>CII_min_alpha</th>\n",
       "      <th>CII_max_alpha</th>\n",
       "      <th>Comparison</th>\n",
       "      <th>Pollutant</th>\n",
       "      <th>Device</th>\n",
       "      <th>Median Error</th>\n",
       "    </tr>\n",
       "  </thead>\n",
       "  <tbody>\n",
       "    <tr>\n",
       "      <th>0</th>\n",
       "      <td>norm</td>\n",
       "      <td>0.144173</td>\n",
       "      <td>10.301664</td>\n",
       "      <td>7.447608</td>\n",
       "      <td>()</td>\n",
       "      <td>(10.30166439193916, 7.447608287235027)</td>\n",
       "      <td>&lt;scipy.stats._distn_infrastructure.rv_continuo...</td>\n",
       "      <td>0</td>\n",
       "      <td>None</td>\n",
       "      <td>#e41a1c</td>\n",
       "      <td>-1.948561</td>\n",
       "      <td>22.551890</td>\n",
       "      <td>Zep_1107b vs Reference</td>\n",
       "      <td>PM2.5</td>\n",
       "      <td>x</td>\n",
       "      <td>0.617727</td>\n",
       "    </tr>\n",
       "    <tr>\n",
       "      <th>1</th>\n",
       "      <td>norm</td>\n",
       "      <td>0.147921</td>\n",
       "      <td>10.629047</td>\n",
       "      <td>8.411385</td>\n",
       "      <td>()</td>\n",
       "      <td>(10.629046998584261, 8.411384515344748)</td>\n",
       "      <td>&lt;scipy.stats._distn_infrastructure.rv_continuo...</td>\n",
       "      <td>0</td>\n",
       "      <td>None</td>\n",
       "      <td>#e41a1c</td>\n",
       "      <td>-3.206449</td>\n",
       "      <td>24.464543</td>\n",
       "      <td>Zep_1107b vs Reference</td>\n",
       "      <td>PM10</td>\n",
       "      <td>x</td>\n",
       "      <td>0.697749</td>\n",
       "    </tr>\n",
       "    <tr>\n",
       "      <th>2</th>\n",
       "      <td>norm</td>\n",
       "      <td>0.021023</td>\n",
       "      <td>10.613616</td>\n",
       "      <td>10.960277</td>\n",
       "      <td>()</td>\n",
       "      <td>(10.613616443908235, 10.960276804092931)</td>\n",
       "      <td>&lt;scipy.stats._distn_infrastructure.rv_continuo...</td>\n",
       "      <td>0</td>\n",
       "      <td>None</td>\n",
       "      <td>#e41a1c</td>\n",
       "      <td>-7.414435</td>\n",
       "      <td>28.641667</td>\n",
       "      <td>Zep_1107b vs Reference</td>\n",
       "      <td>NO2</td>\n",
       "      <td>x</td>\n",
       "      <td>0.476999</td>\n",
       "    </tr>\n",
       "    <tr>\n",
       "      <th>3</th>\n",
       "      <td>norm</td>\n",
       "      <td>0.000094</td>\n",
       "      <td>51.773691</td>\n",
       "      <td>23.368996</td>\n",
       "      <td>()</td>\n",
       "      <td>(51.77369082771798, 23.36899612950345)</td>\n",
       "      <td>&lt;scipy.stats._distn_infrastructure.rv_continuo...</td>\n",
       "      <td>0</td>\n",
       "      <td>None</td>\n",
       "      <td>#e41a1c</td>\n",
       "      <td>13.335113</td>\n",
       "      <td>90.212269</td>\n",
       "      <td>Zep_1107b vs Reference</td>\n",
       "      <td>O3</td>\n",
       "      <td>x</td>\n",
       "      <td>0.181654</td>\n",
       "    </tr>\n",
       "    <tr>\n",
       "      <th>4</th>\n",
       "      <td>norm</td>\n",
       "      <td>0.018983</td>\n",
       "      <td>8.942813</td>\n",
       "      <td>8.895867</td>\n",
       "      <td>()</td>\n",
       "      <td>(8.942812702563106, 8.895867199134212)</td>\n",
       "      <td>&lt;scipy.stats._distn_infrastructure.rv_continuo...</td>\n",
       "      <td>0</td>\n",
       "      <td>None</td>\n",
       "      <td>#e41a1c</td>\n",
       "      <td>-5.689587</td>\n",
       "      <td>23.575212</td>\n",
       "      <td>Zep_753 vs Reference</td>\n",
       "      <td>PM2.5</td>\n",
       "      <td>x</td>\n",
       "      <td>1.052561</td>\n",
       "    </tr>\n",
       "    <tr>\n",
       "      <th>5</th>\n",
       "      <td>norm</td>\n",
       "      <td>0.036600</td>\n",
       "      <td>10.573579</td>\n",
       "      <td>9.048104</td>\n",
       "      <td>()</td>\n",
       "      <td>(10.573579326322259, 9.048104283862232)</td>\n",
       "      <td>&lt;scipy.stats._distn_infrastructure.rv_continuo...</td>\n",
       "      <td>0</td>\n",
       "      <td>None</td>\n",
       "      <td>#e41a1c</td>\n",
       "      <td>-4.309228</td>\n",
       "      <td>25.456386</td>\n",
       "      <td>Zep_753 vs Reference</td>\n",
       "      <td>PM10</td>\n",
       "      <td>x</td>\n",
       "      <td>0.722528</td>\n",
       "    </tr>\n",
       "    <tr>\n",
       "      <th>6</th>\n",
       "      <td>norm</td>\n",
       "      <td>0.003075</td>\n",
       "      <td>16.823164</td>\n",
       "      <td>11.572679</td>\n",
       "      <td>()</td>\n",
       "      <td>(16.823164131335552, 11.572679414053246)</td>\n",
       "      <td>&lt;scipy.stats._distn_infrastructure.rv_continuo...</td>\n",
       "      <td>0</td>\n",
       "      <td>None</td>\n",
       "      <td>#e41a1c</td>\n",
       "      <td>-2.212200</td>\n",
       "      <td>35.858528</td>\n",
       "      <td>Zep_753 vs Reference</td>\n",
       "      <td>NO2</td>\n",
       "      <td>x</td>\n",
       "      <td>0.316619</td>\n",
       "    </tr>\n",
       "    <tr>\n",
       "      <th>7</th>\n",
       "      <td>norm</td>\n",
       "      <td>0.000468</td>\n",
       "      <td>33.841677</td>\n",
       "      <td>19.670166</td>\n",
       "      <td>()</td>\n",
       "      <td>(33.84167671100332, 19.670165929590368)</td>\n",
       "      <td>&lt;scipy.stats._distn_infrastructure.rv_continuo...</td>\n",
       "      <td>0</td>\n",
       "      <td>None</td>\n",
       "      <td>#e41a1c</td>\n",
       "      <td>1.487133</td>\n",
       "      <td>66.196220</td>\n",
       "      <td>Zep_753 vs Reference</td>\n",
       "      <td>O3</td>\n",
       "      <td>x</td>\n",
       "      <td>0.159371</td>\n",
       "    </tr>\n",
       "    <tr>\n",
       "      <th>8</th>\n",
       "      <td>norm</td>\n",
       "      <td>0.000672</td>\n",
       "      <td>125.249451</td>\n",
       "      <td>289.778728</td>\n",
       "      <td>()</td>\n",
       "      <td>(125.24945093794304, 289.7787283711814)</td>\n",
       "      <td>&lt;scipy.stats._distn_infrastructure.rv_continuo...</td>\n",
       "      <td>0</td>\n",
       "      <td>None</td>\n",
       "      <td>#e41a1c</td>\n",
       "      <td>-351.394141</td>\n",
       "      <td>601.893043</td>\n",
       "      <td>Zep_754 vs Reference</td>\n",
       "      <td>PM2.5</td>\n",
       "      <td>x</td>\n",
       "      <td>1.402333</td>\n",
       "    </tr>\n",
       "    <tr>\n",
       "      <th>9</th>\n",
       "      <td>norm</td>\n",
       "      <td>0.000681</td>\n",
       "      <td>129.599586</td>\n",
       "      <td>289.925500</td>\n",
       "      <td>()</td>\n",
       "      <td>(129.59958639373542, 289.9254997241142)</td>\n",
       "      <td>&lt;scipy.stats._distn_infrastructure.rv_continuo...</td>\n",
       "      <td>0</td>\n",
       "      <td>None</td>\n",
       "      <td>#e41a1c</td>\n",
       "      <td>-347.285423</td>\n",
       "      <td>606.484596</td>\n",
       "      <td>Zep_754 vs Reference</td>\n",
       "      <td>PM10</td>\n",
       "      <td>x</td>\n",
       "      <td>0.993838</td>\n",
       "    </tr>\n",
       "    <tr>\n",
       "      <th>10</th>\n",
       "      <td>norm</td>\n",
       "      <td>0.011791</td>\n",
       "      <td>9.479755</td>\n",
       "      <td>8.593018</td>\n",
       "      <td>()</td>\n",
       "      <td>(9.47975526948623, 8.59301811087723)</td>\n",
       "      <td>&lt;scipy.stats._distn_infrastructure.rv_continuo...</td>\n",
       "      <td>0</td>\n",
       "      <td>None</td>\n",
       "      <td>#e41a1c</td>\n",
       "      <td>-4.654502</td>\n",
       "      <td>23.614012</td>\n",
       "      <td>Zep_754 vs Reference</td>\n",
       "      <td>NO2</td>\n",
       "      <td>x</td>\n",
       "      <td>0.325285</td>\n",
       "    </tr>\n",
       "    <tr>\n",
       "      <th>11</th>\n",
       "      <td>norm</td>\n",
       "      <td>0.000246</td>\n",
       "      <td>53.704398</td>\n",
       "      <td>19.478345</td>\n",
       "      <td>()</td>\n",
       "      <td>(53.704397913970624, 19.47834471535242)</td>\n",
       "      <td>&lt;scipy.stats._distn_infrastructure.rv_continuo...</td>\n",
       "      <td>0</td>\n",
       "      <td>None</td>\n",
       "      <td>#e41a1c</td>\n",
       "      <td>21.665372</td>\n",
       "      <td>85.743424</td>\n",
       "      <td>Zep_754 vs Reference</td>\n",
       "      <td>O3</td>\n",
       "      <td>x</td>\n",
       "      <td>0.149678</td>\n",
       "    </tr>\n",
       "    <tr>\n",
       "      <th>12</th>\n",
       "      <td>norm</td>\n",
       "      <td>0.010652</td>\n",
       "      <td>8.107618</td>\n",
       "      <td>5.981682</td>\n",
       "      <td>()</td>\n",
       "      <td>(8.10761751667522, 5.981681511923518)</td>\n",
       "      <td>&lt;scipy.stats._distn_infrastructure.rv_continuo...</td>\n",
       "      <td>0</td>\n",
       "      <td>None</td>\n",
       "      <td>#e41a1c</td>\n",
       "      <td>-1.731373</td>\n",
       "      <td>17.946608</td>\n",
       "      <td>Zep_757 vs Reference</td>\n",
       "      <td>PM2.5</td>\n",
       "      <td>x</td>\n",
       "      <td>0.404008</td>\n",
       "    </tr>\n",
       "    <tr>\n",
       "      <th>13</th>\n",
       "      <td>norm</td>\n",
       "      <td>0.025654</td>\n",
       "      <td>9.433458</td>\n",
       "      <td>6.792218</td>\n",
       "      <td>()</td>\n",
       "      <td>(9.433458012269186, 6.792218136141556)</td>\n",
       "      <td>&lt;scipy.stats._distn_infrastructure.rv_continuo...</td>\n",
       "      <td>0</td>\n",
       "      <td>None</td>\n",
       "      <td>#e41a1c</td>\n",
       "      <td>-1.738747</td>\n",
       "      <td>20.605663</td>\n",
       "      <td>Zep_757 vs Reference</td>\n",
       "      <td>PM10</td>\n",
       "      <td>x</td>\n",
       "      <td>0.376010</td>\n",
       "    </tr>\n",
       "    <tr>\n",
       "      <th>14</th>\n",
       "      <td>norm</td>\n",
       "      <td>0.000792</td>\n",
       "      <td>22.672793</td>\n",
       "      <td>7.980655</td>\n",
       "      <td>()</td>\n",
       "      <td>(22.672792819185343, 7.980654564286419)</td>\n",
       "      <td>&lt;scipy.stats._distn_infrastructure.rv_continuo...</td>\n",
       "      <td>0</td>\n",
       "      <td>None</td>\n",
       "      <td>#e41a1c</td>\n",
       "      <td>9.545784</td>\n",
       "      <td>35.799801</td>\n",
       "      <td>Zep_757 vs Reference</td>\n",
       "      <td>NO2</td>\n",
       "      <td>x</td>\n",
       "      <td>0.384857</td>\n",
       "    </tr>\n",
       "    <tr>\n",
       "      <th>15</th>\n",
       "      <td>norm</td>\n",
       "      <td>0.000050</td>\n",
       "      <td>49.563971</td>\n",
       "      <td>14.320565</td>\n",
       "      <td>()</td>\n",
       "      <td>(49.563971464989336, 14.320565232716103)</td>\n",
       "      <td>&lt;scipy.stats._distn_infrastructure.rv_continuo...</td>\n",
       "      <td>0</td>\n",
       "      <td>None</td>\n",
       "      <td>#e41a1c</td>\n",
       "      <td>26.008738</td>\n",
       "      <td>73.119205</td>\n",
       "      <td>Zep_757 vs Reference</td>\n",
       "      <td>O3</td>\n",
       "      <td>x</td>\n",
       "      <td>0.156473</td>\n",
       "    </tr>\n",
       "    <tr>\n",
       "      <th>16</th>\n",
       "      <td>norm</td>\n",
       "      <td>0.016660</td>\n",
       "      <td>8.351932</td>\n",
       "      <td>8.341747</td>\n",
       "      <td>()</td>\n",
       "      <td>(8.351931807491372, 8.341747442855358)</td>\n",
       "      <td>&lt;scipy.stats._distn_infrastructure.rv_continuo...</td>\n",
       "      <td>0</td>\n",
       "      <td>None</td>\n",
       "      <td>#e41a1c</td>\n",
       "      <td>-5.369022</td>\n",
       "      <td>22.072885</td>\n",
       "      <td>Zep_858 vs Reference</td>\n",
       "      <td>PM2.5</td>\n",
       "      <td>x</td>\n",
       "      <td>0.402615</td>\n",
       "    </tr>\n",
       "    <tr>\n",
       "      <th>17</th>\n",
       "      <td>norm</td>\n",
       "      <td>0.023544</td>\n",
       "      <td>11.341545</td>\n",
       "      <td>9.302002</td>\n",
       "      <td>()</td>\n",
       "      <td>(11.34154540555151, 9.302001557009843)</td>\n",
       "      <td>&lt;scipy.stats._distn_infrastructure.rv_continuo...</td>\n",
       "      <td>0</td>\n",
       "      <td>None</td>\n",
       "      <td>#e41a1c</td>\n",
       "      <td>-3.958886</td>\n",
       "      <td>26.641976</td>\n",
       "      <td>Zep_858 vs Reference</td>\n",
       "      <td>PM10</td>\n",
       "      <td>x</td>\n",
       "      <td>0.993766</td>\n",
       "    </tr>\n",
       "    <tr>\n",
       "      <th>18</th>\n",
       "      <td>norm</td>\n",
       "      <td>0.002154</td>\n",
       "      <td>20.892248</td>\n",
       "      <td>10.153752</td>\n",
       "      <td>()</td>\n",
       "      <td>(20.89224819201948, 10.153751529601577)</td>\n",
       "      <td>&lt;scipy.stats._distn_infrastructure.rv_continuo...</td>\n",
       "      <td>0</td>\n",
       "      <td>None</td>\n",
       "      <td>#e41a1c</td>\n",
       "      <td>4.190813</td>\n",
       "      <td>37.593683</td>\n",
       "      <td>Zep_858 vs Reference</td>\n",
       "      <td>NO2</td>\n",
       "      <td>x</td>\n",
       "      <td>0.303948</td>\n",
       "    </tr>\n",
       "    <tr>\n",
       "      <th>19</th>\n",
       "      <td>norm</td>\n",
       "      <td>0.000322</td>\n",
       "      <td>35.370266</td>\n",
       "      <td>17.759555</td>\n",
       "      <td>()</td>\n",
       "      <td>(35.37026641630309, 17.759555437966778)</td>\n",
       "      <td>&lt;scipy.stats._distn_infrastructure.rv_continuo...</td>\n",
       "      <td>0</td>\n",
       "      <td>None</td>\n",
       "      <td>#e41a1c</td>\n",
       "      <td>6.158397</td>\n",
       "      <td>64.582136</td>\n",
       "      <td>Zep_858 vs Reference</td>\n",
       "      <td>O3</td>\n",
       "      <td>x</td>\n",
       "      <td>0.108123</td>\n",
       "    </tr>\n",
       "  </tbody>\n",
       "</table>\n",
       "</div>"
      ],
      "text/plain": [
       "    name  Residual Sum of Squares         loc       scale arg  \\\n",
       "0   norm                 0.144173   10.301664    7.447608  ()   \n",
       "1   norm                 0.147921   10.629047    8.411385  ()   \n",
       "2   norm                 0.021023   10.613616   10.960277  ()   \n",
       "3   norm                 0.000094   51.773691   23.368996  ()   \n",
       "4   norm                 0.018983    8.942813    8.895867  ()   \n",
       "5   norm                 0.036600   10.573579    9.048104  ()   \n",
       "6   norm                 0.003075   16.823164   11.572679  ()   \n",
       "7   norm                 0.000468   33.841677   19.670166  ()   \n",
       "8   norm                 0.000672  125.249451  289.778728  ()   \n",
       "9   norm                 0.000681  129.599586  289.925500  ()   \n",
       "10  norm                 0.011791    9.479755    8.593018  ()   \n",
       "11  norm                 0.000246   53.704398   19.478345  ()   \n",
       "12  norm                 0.010652    8.107618    5.981682  ()   \n",
       "13  norm                 0.025654    9.433458    6.792218  ()   \n",
       "14  norm                 0.000792   22.672793    7.980655  ()   \n",
       "15  norm                 0.000050   49.563971   14.320565  ()   \n",
       "16  norm                 0.016660    8.351932    8.341747  ()   \n",
       "17  norm                 0.023544   11.341545    9.302002  ()   \n",
       "18  norm                 0.002154   20.892248   10.153752  ()   \n",
       "19  norm                 0.000322   35.370266   17.759555  ()   \n",
       "\n",
       "                                      params  \\\n",
       "0     (10.30166439193916, 7.447608287235027)   \n",
       "1    (10.629046998584261, 8.411384515344748)   \n",
       "2   (10.613616443908235, 10.960276804092931)   \n",
       "3     (51.77369082771798, 23.36899612950345)   \n",
       "4     (8.942812702563106, 8.895867199134212)   \n",
       "5    (10.573579326322259, 9.048104283862232)   \n",
       "6   (16.823164131335552, 11.572679414053246)   \n",
       "7    (33.84167671100332, 19.670165929590368)   \n",
       "8    (125.24945093794304, 289.7787283711814)   \n",
       "9    (129.59958639373542, 289.9254997241142)   \n",
       "10      (9.47975526948623, 8.59301811087723)   \n",
       "11   (53.704397913970624, 19.47834471535242)   \n",
       "12     (8.10761751667522, 5.981681511923518)   \n",
       "13    (9.433458012269186, 6.792218136141556)   \n",
       "14   (22.672792819185343, 7.980654564286419)   \n",
       "15  (49.563971464989336, 14.320565232716103)   \n",
       "16    (8.351931807491372, 8.341747442855358)   \n",
       "17    (11.34154540555151, 9.302001557009843)   \n",
       "18   (20.89224819201948, 10.153751529601577)   \n",
       "19   (35.37026641630309, 17.759555437966778)   \n",
       "\n",
       "                                                model  bootstrap_score  \\\n",
       "0   <scipy.stats._distn_infrastructure.rv_continuo...                0   \n",
       "1   <scipy.stats._distn_infrastructure.rv_continuo...                0   \n",
       "2   <scipy.stats._distn_infrastructure.rv_continuo...                0   \n",
       "3   <scipy.stats._distn_infrastructure.rv_continuo...                0   \n",
       "4   <scipy.stats._distn_infrastructure.rv_continuo...                0   \n",
       "5   <scipy.stats._distn_infrastructure.rv_continuo...                0   \n",
       "6   <scipy.stats._distn_infrastructure.rv_continuo...                0   \n",
       "7   <scipy.stats._distn_infrastructure.rv_continuo...                0   \n",
       "8   <scipy.stats._distn_infrastructure.rv_continuo...                0   \n",
       "9   <scipy.stats._distn_infrastructure.rv_continuo...                0   \n",
       "10  <scipy.stats._distn_infrastructure.rv_continuo...                0   \n",
       "11  <scipy.stats._distn_infrastructure.rv_continuo...                0   \n",
       "12  <scipy.stats._distn_infrastructure.rv_continuo...                0   \n",
       "13  <scipy.stats._distn_infrastructure.rv_continuo...                0   \n",
       "14  <scipy.stats._distn_infrastructure.rv_continuo...                0   \n",
       "15  <scipy.stats._distn_infrastructure.rv_continuo...                0   \n",
       "16  <scipy.stats._distn_infrastructure.rv_continuo...                0   \n",
       "17  <scipy.stats._distn_infrastructure.rv_continuo...                0   \n",
       "18  <scipy.stats._distn_infrastructure.rv_continuo...                0   \n",
       "19  <scipy.stats._distn_infrastructure.rv_continuo...                0   \n",
       "\n",
       "   bootstrap_pass    color  CII_min_alpha  CII_max_alpha  \\\n",
       "0            None  #e41a1c      -1.948561      22.551890   \n",
       "1            None  #e41a1c      -3.206449      24.464543   \n",
       "2            None  #e41a1c      -7.414435      28.641667   \n",
       "3            None  #e41a1c      13.335113      90.212269   \n",
       "4            None  #e41a1c      -5.689587      23.575212   \n",
       "5            None  #e41a1c      -4.309228      25.456386   \n",
       "6            None  #e41a1c      -2.212200      35.858528   \n",
       "7            None  #e41a1c       1.487133      66.196220   \n",
       "8            None  #e41a1c    -351.394141     601.893043   \n",
       "9            None  #e41a1c    -347.285423     606.484596   \n",
       "10           None  #e41a1c      -4.654502      23.614012   \n",
       "11           None  #e41a1c      21.665372      85.743424   \n",
       "12           None  #e41a1c      -1.731373      17.946608   \n",
       "13           None  #e41a1c      -1.738747      20.605663   \n",
       "14           None  #e41a1c       9.545784      35.799801   \n",
       "15           None  #e41a1c      26.008738      73.119205   \n",
       "16           None  #e41a1c      -5.369022      22.072885   \n",
       "17           None  #e41a1c      -3.958886      26.641976   \n",
       "18           None  #e41a1c       4.190813      37.593683   \n",
       "19           None  #e41a1c       6.158397      64.582136   \n",
       "\n",
       "                Comparison Pollutant Device  Median Error  \n",
       "0   Zep_1107b vs Reference     PM2.5      x      0.617727  \n",
       "1   Zep_1107b vs Reference      PM10      x      0.697749  \n",
       "2   Zep_1107b vs Reference       NO2      x      0.476999  \n",
       "3   Zep_1107b vs Reference        O3      x      0.181654  \n",
       "4     Zep_753 vs Reference     PM2.5      x      1.052561  \n",
       "5     Zep_753 vs Reference      PM10      x      0.722528  \n",
       "6     Zep_753 vs Reference       NO2      x      0.316619  \n",
       "7     Zep_753 vs Reference        O3      x      0.159371  \n",
       "8     Zep_754 vs Reference     PM2.5      x      1.402333  \n",
       "9     Zep_754 vs Reference      PM10      x      0.993838  \n",
       "10    Zep_754 vs Reference       NO2      x      0.325285  \n",
       "11    Zep_754 vs Reference        O3      x      0.149678  \n",
       "12    Zep_757 vs Reference     PM2.5      x      0.404008  \n",
       "13    Zep_757 vs Reference      PM10      x      0.376010  \n",
       "14    Zep_757 vs Reference       NO2      x      0.384857  \n",
       "15    Zep_757 vs Reference        O3      x      0.156473  \n",
       "16    Zep_858 vs Reference     PM2.5      x      0.402615  \n",
       "17    Zep_858 vs Reference      PM10      x      0.993766  \n",
       "18    Zep_858 vs Reference       NO2      x      0.303948  \n",
       "19    Zep_858 vs Reference        O3      x      0.108123  "
      ]
     },
     "metadata": {},
     "output_type": "display_data"
    },
    {
     "data": {
      "image/png": "[encoded data removed]",
      "text/plain": [
       "<Figure size 640x480 with 1 Axes>"
      ]
     },
     "metadata": {},
     "output_type": "display_data"
    },
    {
     "name": "stdout",
     "output_type": "stream",
     "text": [
      "NO2\n"
     ]
    },
    {
     "data": {
      "image/png": "[encoded data removed]",
      "text/plain": [
       "<Figure size 640x480 with 1 Axes>"
      ]
     },
     "metadata": {},
     "output_type": "display_data"
    },
    {
     "name": "stdout",
     "output_type": "stream",
     "text": [
      "O3\n"
     ]
    },
    {
     "data": {
      "image/png": "[encoded data removed]",
      "text/plain": [
       "<Figure size 640x480 with 1 Axes>"
      ]
     },
     "metadata": {},
     "output_type": "display_data"
    },
    {
     "name": "stdout",
     "output_type": "stream",
     "text": [
      "PM10\n"
     ]
    },
    {
     "data": {
      "image/png": "[encoded data removed]",
      "text/plain": [
       "<Figure size 640x480 with 1 Axes>"
      ]
     },
     "metadata": {},
     "output_type": "display_data"
    },
    {
     "name": "stdout",
     "output_type": "stream",
     "text": [
      "PM2.5\n"
     ]
    },
    {
     "data": {
      "image/png": "[encoded data removed]",
      "text/plain": [
       "<Figure size 640x480 with 1 Axes>"
      ]
     },
     "metadata": {},
     "output_type": "display_data"
    }
   ],
   "source": [
    "results_comp('Cranfield')"
   ]
  },
  {
   "cell_type": "code",
   "execution_count": 4,
   "id": "b79d1cce-fcef-4b73-9e0b-f498432e5e30",
   "metadata": {
    "tags": []
   },
   "outputs": [],
   "source": [
    "def dists_comp(study):\n",
    "    measurements_db_path = Path(f'/var/mnt/Little Guy/Graddnodi/Output/{study}/Measurements/Measurements.db')\n",
    "    con = sql.connect(measurements_db_path)\n",
    "    cursor = con.cursor()\n",
    "    cursor.execute(\"SELECT name FROM sqlite_master WHERE type='table';\")\n",
    "    tables_to_dl = cursor.fetchall()\n",
    "    cursor.close()\n",
    "\n",
    "    dist_models = {}\n",
    "\n",
    "    for table in tables_to_dl:\n",
    "        print(table)\n",
    "        dfit = distfit(distr=[\n",
    "            'norm', 'lognorm', 't', 'expon', 'pareto', 'beta', 'gamma', 'genextreme'\n",
    "        ])\n",
    "        df = pd.read_sql(f\"SELECT * from '{table[0]}'\", con=con, index_col='_time')\n",
    "        for col, data in df.items():\n",
    "\n",
    "            dfit.fit_transform(data.dropna())\n",
    "            dfit.plot()\n",
    "            plt.savefig(f'img/{table[0]} {col} dist.png')\n",
    "            plt.close()\n",
    "\n",
    "            if col not in dist_models:\n",
    "                dist_models[col] = {}\n",
    "\n",
    "            dist_models[col][table[0]] = dfit.model['model']\n",
    "\n",
    "    con.close()\n",
    "\n",
    "    return dist_models"
   ]
  },
  {
   "cell_type": "raw",
   "id": "33850444-2255-4c07-8a94-8bfb26cf55eb",
   "metadata": {},
   "source": [
    "bp_models = dists_comp('Bushy Park')\n",
    "bp_models"
   ]
  },
  {
   "cell_type": "code",
   "execution_count": 5,
   "id": "f43cf0b1-fe24-456e-a482-e5f8636a2c37",
   "metadata": {
    "tags": []
   },
   "outputs": [
    {
     "name": "stdout",
     "output_type": "stream",
     "text": [
      "('Reference',)\n",
      "('Zep_1107b',)\n",
      "('Zep_753',)\n",
      "('Zep_754',)\n",
      "('Zep_757',)\n",
      "('Zep_858',)\n"
     ]
    },
    {
     "data": {
      "text/plain": [
       "{'NO2': {'Reference': <scipy.stats._distn_infrastructure.rv_continuous_frozen at 0x7f394693f9d0>,\n",
       "  'Zep_1107b': <scipy.stats._distn_infrastructure.rv_continuous_frozen at 0x7f3945bbb510>,\n",
       "  'Zep_753': <scipy.stats._distn_infrastructure.rv_continuous_frozen at 0x7f39456e4650>,\n",
       "  'Zep_754': <scipy.stats._distn_infrastructure.rv_continuous_frozen at 0x7f3946ad2dd0>,\n",
       "  'Zep_757': <scipy.stats._distn_infrastructure.rv_continuous_frozen at 0x7f3947b56710>,\n",
       "  'Zep_858': <scipy.stats._distn_infrastructure.rv_continuous_frozen at 0x7f39489f4950>},\n",
       " 'O3': {'Reference': <scipy.stats._distn_infrastructure.rv_continuous_frozen at 0x7f39466cc4d0>,\n",
       "  'Zep_1107b': <scipy.stats._distn_infrastructure.rv_continuous_frozen at 0x7f3946897490>,\n",
       "  'Zep_753': <scipy.stats._distn_infrastructure.rv_continuous_frozen at 0x7f3945e2f950>,\n",
       "  'Zep_754': <scipy.stats._distn_infrastructure.rv_continuous_frozen at 0x7f3946b3aa90>,\n",
       "  'Zep_757': <scipy.stats._distn_infrastructure.rv_continuous_frozen at 0x7f3947bd4310>,\n",
       "  'Zep_858': <scipy.stats._distn_infrastructure.rv_continuous_frozen at 0x7f394845bf90>},\n",
       " 'PM10': {'Reference': <scipy.stats._distn_infrastructure.rv_continuous_frozen at 0x7f39466f3910>,\n",
       "  'Zep_1107b': <scipy.stats._distn_infrastructure.rv_continuous_frozen at 0x7f3945ad7950>,\n",
       "  'Zep_753': <scipy.stats._distn_infrastructure.rv_continuous_frozen at 0x7f3944c204d0>,\n",
       "  'Zep_754': <scipy.stats._distn_infrastructure.rv_continuous_frozen at 0x7f3946d91910>,\n",
       "  'Zep_757': <scipy.stats._distn_infrastructure.rv_continuous_frozen at 0x7f3947d20f90>,\n",
       "  'Zep_858': <scipy.stats._distn_infrastructure.rv_continuous_frozen at 0x7f3948b0ca50>},\n",
       " 'PM2.5': {'Reference': <scipy.stats._distn_infrastructure.rv_continuous_frozen at 0x7f39463404d0>,\n",
       "  'Zep_1107b': <scipy.stats._distn_infrastructure.rv_continuous_frozen at 0x7f394562a150>,\n",
       "  'Zep_753': <scipy.stats._distn_infrastructure.rv_continuous_frozen at 0x7f3958cd70d0>,\n",
       "  'Zep_754': <scipy.stats._distn_infrastructure.rv_continuous_frozen at 0x7f3946b1e310>,\n",
       "  'Zep_757': <scipy.stats._distn_infrastructure.rv_continuous_frozen at 0x7f394802ae10>,\n",
       "  'Zep_858': <scipy.stats._distn_infrastructure.rv_continuous_frozen at 0x7f3948433610>},\n",
       " 'RH': {'Zep_1107b': <scipy.stats._distn_infrastructure.rv_continuous_frozen at 0x7f3946285690>,\n",
       "  'Zep_753': <scipy.stats._distn_infrastructure.rv_continuous_frozen at 0x7f39454404d0>,\n",
       "  'Zep_754': <scipy.stats._distn_infrastructure.rv_continuous_frozen at 0x7f3945cc0550>,\n",
       "  'Zep_757': <scipy.stats._distn_infrastructure.rv_continuous_frozen at 0x7f3944914a10>,\n",
       "  'Zep_858': <scipy.stats._distn_infrastructure.rv_continuous_frozen at 0x7f39482ff510>},\n",
       " 'NO': {'Zep_1107b': <scipy.stats._distn_infrastructure.rv_continuous_frozen at 0x7f3945c99c90>,\n",
       "  'Zep_753': <scipy.stats._distn_infrastructure.rv_continuous_frozen at 0x7f394689e110>,\n",
       "  'Zep_754': <scipy.stats._distn_infrastructure.rv_continuous_frozen at 0x7f3946aa3c90>,\n",
       "  'Zep_757': <scipy.stats._distn_infrastructure.rv_continuous_frozen at 0x7f3947961e50>,\n",
       "  'Zep_858': <scipy.stats._distn_infrastructure.rv_continuous_frozen at 0x7f39486db3d0>},\n",
       " 'T': {'Zep_1107b': <scipy.stats._distn_infrastructure.rv_continuous_frozen at 0x7f3945468550>,\n",
       "  'Zep_753': <scipy.stats._distn_infrastructure.rv_continuous_frozen at 0x7f3944b83610>,\n",
       "  'Zep_754': <scipy.stats._distn_infrastructure.rv_continuous_frozen at 0x7f3947632290>,\n",
       "  'Zep_757': <scipy.stats._distn_infrastructure.rv_continuous_frozen at 0x7f394803a5d0>,\n",
       "  'Zep_858': <scipy.stats._distn_infrastructure.rv_continuous_frozen at 0x7f39492c0b10>}}"
      ]
     },
     "execution_count": 5,
     "metadata": {},
     "output_type": "execute_result"
    }
   ],
   "source": [
    "cr_models = dists_comp('Cranfield')\n",
    "cr_models"
   ]
  },
  {
   "cell_type": "code",
   "execution_count": 18,
   "id": "2b3a1780-23c8-4a55-863a-4728c57bf2a8",
   "metadata": {
    "tags": []
   },
   "outputs": [
    {
     "data": {
      "application/vnd.plotly.v1+json": {
       "config": {
        "plotlyServerURL": "https://plot.ly"
       },
       "data": [
        {
         "mode": "markers",
         "type": "scatter",
         "x": [
          0.2198970049997535,
          0.15900843163638415,
          0.32851438814808437,
          0.020759434884975673,
          0.12415956476491213,
          0.014575593952985893,
          0.15942015763045164,
          0.029290893880020957,
          0.0021817908286350246,
          0.00014612415841384492,
          0.12677645335763355,
          0.04099089237575804,
          0.0034755534908001095,
          0.0001941554876944987,
          0.1272920848687111,
          0.03205344607325994,
          0.002228250032826815,
          0.0001456794974833976,
          0.09457876006662932,
          0.037301393011699484,
          0.003182763324338929,
          0.00014365461103788043
         ],
         "y": [
          0.5935084854795166,
          0.4557512646456298,
          0.508672429474915,
          0.5512800331240334,
          0.41110323772783297,
          0.566365388633265,
          0.3304668431425198,
          0.42711593026811956,
          0.954723452628578,
          0.13935214700424095,
          0.35955956350808693,
          0.3756309426378455,
          0.7801628369967084,
          0.15274209377053816,
          0.3454572397381546,
          0.44002964470472117,
          0.5377290491499842,
          0.14511335183019752,
          0.4024014801250622,
          0.4775777378941963,
          0.588443738569465,
          0.15063737201918168
         ]
        }
       ],
       "layout": {
        "colorway": [
         "#1d2021"
        ],
        "font": {
         "size": 16
        },
        "height": 800,
        "margin": {
         "b": 0,
         "l": 0,
         "pad": 0,
         "r": 0,
         "t": 0
        },
        "paper_bgcolor": "rgba(0, 0, 0, 0)",
        "plot_bgcolor": "rgba(0, 0, 0, 0)",
        "scattermode": "group",
        "showlegend": false,
        "template": {
         "data": {
          "bar": [
           {
            "error_x": {
             "color": "#2a3f5f"
            },
            "error_y": {
             "color": "#2a3f5f"
            },
            "marker": {
             "line": {
              "color": "#E5ECF6",
              "width": 0.5
             },
             "pattern": {
              "fillmode": "overlay",
              "size": 10,
              "solidity": 0.2
             }
            },
            "type": "bar"
           }
          ],
          "barpolar": [
           {
            "marker": {
             "line": {
              "color": "#E5ECF6",
              "width": 0.5
             },
             "pattern": {
              "fillmode": "overlay",
              "size": 10,
              "solidity": 0.2
             }
            },
            "type": "barpolar"
           }
          ],
          "carpet": [
           {
            "aaxis": {
             "endlinecolor": "#2a3f5f",
             "gridcolor": "white",
             "linecolor": "white",
             "minorgridcolor": "white",
             "startlinecolor": "#2a3f5f"
            },
            "baxis": {
             "endlinecolor": "#2a3f5f",
             "gridcolor": "white",
             "linecolor": "white",
             "minorgridcolor": "white",
             "startlinecolor": "#2a3f5f"
            },
            "type": "carpet"
           }
          ],
          "choropleth": [
           {
            "colorbar": {
             "outlinewidth": 0,
             "ticks": ""
            },
            "type": "choropleth"
           }
          ],
          "contour": [
           {
            "colorbar": {
             "outlinewidth": 0,
             "ticks": ""
            },
            "colorscale": [
             [
              0,
              "#0d0887"
             ],
             [
              0.1111111111111111,
              "#46039f"
             ],
             [
              0.2222222222222222,
              "#7201a8"
             ],
             [
              0.3333333333333333,
              "#9c179e"
             ],
             [
              0.4444444444444444,
              "#bd3786"
             ],
             [
              0.5555555555555556,
              "#d8576b"
             ],
             [
              0.6666666666666666,
              "#ed7953"
             ],
             [
              0.7777777777777778,
              "#fb9f3a"
             ],
             [
              0.8888888888888888,
              "#fdca26"
             ],
             [
              1,
              "#f0f921"
             ]
            ],
            "type": "contour"
           }
          ],
          "contourcarpet": [
           {
            "colorbar": {
             "outlinewidth": 0,
             "ticks": ""
            },
            "type": "contourcarpet"
           }
          ],
          "heatmap": [
           {
            "colorbar": {
             "outlinewidth": 0,
             "ticks": ""
            },
            "colorscale": [
             [
              0,
              "#0d0887"
             ],
             [
              0.1111111111111111,
              "#46039f"
             ],
             [
              0.2222222222222222,
              "#7201a8"
             ],
             [
              0.3333333333333333,
              "#9c179e"
             ],
             [
              0.4444444444444444,
              "#bd3786"
             ],
             [
              0.5555555555555556,
              "#d8576b"
             ],
             [
              0.6666666666666666,
              "#ed7953"
             ],
             [
              0.7777777777777778,
              "#fb9f3a"
             ],
             [
              0.8888888888888888,
              "#fdca26"
             ],
             [
              1,
              "#f0f921"
             ]
            ],
            "type": "heatmap"
           }
          ],
          "heatmapgl": [
           {
            "colorbar": {
             "outlinewidth": 0,
             "ticks": ""
            },
            "colorscale": [
             [
              0,
              "#0d0887"
             ],
             [
              0.1111111111111111,
              "#46039f"
             ],
             [
              0.2222222222222222,
              "#7201a8"
             ],
             [
              0.3333333333333333,
              "#9c179e"
             ],
             [
              0.4444444444444444,
              "#bd3786"
             ],
             [
              0.5555555555555556,
              "#d8576b"
             ],
             [
              0.6666666666666666,
              "#ed7953"
             ],
             [
              0.7777777777777778,
              "#fb9f3a"
             ],
             [
              0.8888888888888888,
              "#fdca26"
             ],
             [
              1,
              "#f0f921"
             ]
            ],
            "type": "heatmapgl"
           }
          ],
          "histogram": [
           {
            "marker": {
             "pattern": {
              "fillmode": "overlay",
              "size": 10,
              "solidity": 0.2
             }
            },
            "type": "histogram"
           }
          ],
          "histogram2d": [
           {
            "colorbar": {
             "outlinewidth": 0,
             "ticks": ""
            },
            "colorscale": [
             [
              0,
              "#0d0887"
             ],
             [
              0.1111111111111111,
              "#46039f"
             ],
             [
              0.2222222222222222,
              "#7201a8"
             ],
             [
              0.3333333333333333,
              "#9c179e"
             ],
             [
              0.4444444444444444,
              "#bd3786"
             ],
             [
              0.5555555555555556,
              "#d8576b"
             ],
             [
              0.6666666666666666,
              "#ed7953"
             ],
             [
              0.7777777777777778,
              "#fb9f3a"
             ],
             [
              0.8888888888888888,
              "#fdca26"
             ],
             [
              1,
              "#f0f921"
             ]
            ],
            "type": "histogram2d"
           }
          ],
          "histogram2dcontour": [
           {
            "colorbar": {
             "outlinewidth": 0,
             "ticks": ""
            },
            "colorscale": [
             [
              0,
              "#0d0887"
             ],
             [
              0.1111111111111111,
              "#46039f"
             ],
             [
              0.2222222222222222,
              "#7201a8"
             ],
             [
              0.3333333333333333,
              "#9c179e"
             ],
             [
              0.4444444444444444,
              "#bd3786"
             ],
             [
              0.5555555555555556,
              "#d8576b"
             ],
             [
              0.6666666666666666,
              "#ed7953"
             ],
             [
              0.7777777777777778,
              "#fb9f3a"
             ],
             [
              0.8888888888888888,
              "#fdca26"
             ],
             [
              1,
              "#f0f921"
             ]
            ],
            "type": "histogram2dcontour"
           }
          ],
          "mesh3d": [
           {
            "colorbar": {
             "outlinewidth": 0,
             "ticks": ""
            },
            "type": "mesh3d"
           }
          ],
          "parcoords": [
           {
            "line": {
             "colorbar": {
              "outlinewidth": 0,
              "ticks": ""
             }
            },
            "type": "parcoords"
           }
          ],
          "pie": [
           {
            "automargin": true,
            "type": "pie"
           }
          ],
          "scatter": [
           {
            "fillpattern": {
             "fillmode": "overlay",
             "size": 10,
             "solidity": 0.2
            },
            "type": "scatter"
           }
          ],
          "scatter3d": [
           {
            "line": {
             "colorbar": {
              "outlinewidth": 0,
              "ticks": ""
             }
            },
            "marker": {
             "colorbar": {
              "outlinewidth": 0,
              "ticks": ""
             }
            },
            "type": "scatter3d"
           }
          ],
          "scattercarpet": [
           {
            "marker": {
             "colorbar": {
              "outlinewidth": 0,
              "ticks": ""
             }
            },
            "type": "scattercarpet"
           }
          ],
          "scattergeo": [
           {
            "marker": {
             "colorbar": {
              "outlinewidth": 0,
              "ticks": ""
             }
            },
            "type": "scattergeo"
           }
          ],
          "scattergl": [
           {
            "marker": {
             "colorbar": {
              "outlinewidth": 0,
              "ticks": ""
             }
            },
            "type": "scattergl"
           }
          ],
          "scattermapbox": [
           {
            "marker": {
             "colorbar": {
              "outlinewidth": 0,
              "ticks": ""
             }
            },
            "type": "scattermapbox"
           }
          ],
          "scatterpolar": [
           {
            "marker": {
             "colorbar": {
              "outlinewidth": 0,
              "ticks": ""
             }
            },
            "type": "scatterpolar"
           }
          ],
          "scatterpolargl": [
           {
            "marker": {
             "colorbar": {
              "outlinewidth": 0,
              "ticks": ""
             }
            },
            "type": "scatterpolargl"
           }
          ],
          "scatterternary": [
           {
            "marker": {
             "colorbar": {
              "outlinewidth": 0,
              "ticks": ""
             }
            },
            "type": "scatterternary"
           }
          ],
          "surface": [
           {
            "colorbar": {
             "outlinewidth": 0,
             "ticks": ""
            },
            "colorscale": [
             [
              0,
              "#0d0887"
             ],
             [
              0.1111111111111111,
              "#46039f"
             ],
             [
              0.2222222222222222,
              "#7201a8"
             ],
             [
              0.3333333333333333,
              "#9c179e"
             ],
             [
              0.4444444444444444,
              "#bd3786"
             ],
             [
              0.5555555555555556,
              "#d8576b"
             ],
             [
              0.6666666666666666,
              "#ed7953"
             ],
             [
              0.7777777777777778,
              "#fb9f3a"
             ],
             [
              0.8888888888888888,
              "#fdca26"
             ],
             [
              1,
              "#f0f921"
             ]
            ],
            "type": "surface"
           }
          ],
          "table": [
           {
            "cells": {
             "fill": {
              "color": "#EBF0F8"
             },
             "line": {
              "color": "white"
             }
            },
            "header": {
             "fill": {
              "color": "#C8D4E3"
             },
             "line": {
              "color": "white"
             }
            },
            "type": "table"
           }
          ]
         },
         "layout": {
          "annotationdefaults": {
           "arrowcolor": "#2a3f5f",
           "arrowhead": 0,
           "arrowwidth": 1
          },
          "autotypenumbers": "strict",
          "coloraxis": {
           "colorbar": {
            "outlinewidth": 0,
            "ticks": ""
           }
          },
          "colorscale": {
           "diverging": [
            [
             0,
             "#8e0152"
            ],
            [
             0.1,
             "#c51b7d"
            ],
            [
             0.2,
             "#de77ae"
            ],
            [
             0.3,
             "#f1b6da"
            ],
            [
             0.4,
             "#fde0ef"
            ],
            [
             0.5,
             "#f7f7f7"
            ],
            [
             0.6,
             "#e6f5d0"
            ],
            [
             0.7,
             "#b8e186"
            ],
            [
             0.8,
             "#7fbc41"
            ],
            [
             0.9,
             "#4d9221"
            ],
            [
             1,
             "#276419"
            ]
           ],
           "sequential": [
            [
             0,
             "#0d0887"
            ],
            [
             0.1111111111111111,
             "#46039f"
            ],
            [
             0.2222222222222222,
             "#7201a8"
            ],
            [
             0.3333333333333333,
             "#9c179e"
            ],
            [
             0.4444444444444444,
             "#bd3786"
            ],
            [
             0.5555555555555556,
             "#d8576b"
            ],
            [
             0.6666666666666666,
             "#ed7953"
            ],
            [
             0.7777777777777778,
             "#fb9f3a"
            ],
            [
             0.8888888888888888,
             "#fdca26"
            ],
            [
             1,
             "#f0f921"
            ]
           ],
           "sequentialminus": [
            [
             0,
             "#0d0887"
            ],
            [
             0.1111111111111111,
             "#46039f"
            ],
            [
             0.2222222222222222,
             "#7201a8"
            ],
            [
             0.3333333333333333,
             "#9c179e"
            ],
            [
             0.4444444444444444,
             "#bd3786"
            ],
            [
             0.5555555555555556,
             "#d8576b"
            ],
            [
             0.6666666666666666,
             "#ed7953"
            ],
            [
             0.7777777777777778,
             "#fb9f3a"
            ],
            [
             0.8888888888888888,
             "#fdca26"
            ],
            [
             1,
             "#f0f921"
            ]
           ]
          },
          "colorway": [
           "#636efa",
           "#EF553B",
           "#00cc96",
           "#ab63fa",
           "#FFA15A",
           "#19d3f3",
           "#FF6692",
           "#B6E880",
           "#FF97FF",
           "#FECB52"
          ],
          "font": {
           "color": "#2a3f5f"
          },
          "geo": {
           "bgcolor": "white",
           "lakecolor": "white",
           "landcolor": "#E5ECF6",
           "showlakes": true,
           "showland": true,
           "subunitcolor": "white"
          },
          "hoverlabel": {
           "align": "left"
          },
          "hovermode": "closest",
          "mapbox": {
           "style": "light"
          },
          "paper_bgcolor": "white",
          "plot_bgcolor": "#E5ECF6",
          "polar": {
           "angularaxis": {
            "gridcolor": "white",
            "linecolor": "white",
            "ticks": ""
           },
           "bgcolor": "#E5ECF6",
           "radialaxis": {
            "gridcolor": "white",
            "linecolor": "white",
            "ticks": ""
           }
          },
          "scene": {
           "xaxis": {
            "backgroundcolor": "#E5ECF6",
            "gridcolor": "white",
            "gridwidth": 2,
            "linecolor": "white",
            "showbackground": true,
            "ticks": "",
            "zerolinecolor": "white"
           },
           "yaxis": {
            "backgroundcolor": "#E5ECF6",
            "gridcolor": "white",
            "gridwidth": 2,
            "linecolor": "white",
            "showbackground": true,
            "ticks": "",
            "zerolinecolor": "white"
           },
           "zaxis": {
            "backgroundcolor": "#E5ECF6",
            "gridcolor": "white",
            "gridwidth": 2,
            "linecolor": "white",
            "showbackground": true,
            "ticks": "",
            "zerolinecolor": "white"
           }
          },
          "shapedefaults": {
           "line": {
            "color": "#2a3f5f"
           }
          },
          "ternary": {
           "aaxis": {
            "gridcolor": "white",
            "linecolor": "white",
            "ticks": ""
           },
           "baxis": {
            "gridcolor": "white",
            "linecolor": "white",
            "ticks": ""
           },
           "bgcolor": "#E5ECF6",
           "caxis": {
            "gridcolor": "white",
            "linecolor": "white",
            "ticks": ""
           }
          },
          "title": {
           "x": 0.05
          },
          "xaxis": {
           "automargin": true,
           "gridcolor": "white",
           "linecolor": "white",
           "ticks": "",
           "title": {
            "standoff": 15
           },
           "zerolinecolor": "white",
           "zerolinewidth": 2
          },
          "yaxis": {
           "automargin": true,
           "gridcolor": "white",
           "linecolor": "white",
           "ticks": "",
           "title": {
            "standoff": 15
           },
           "zerolinecolor": "white",
           "zerolinewidth": 2
          }
         }
        },
        "width": 800,
        "xaxis": {
         "autorange": true,
         "range": [
          -3.8457520695593477,
          -0.4834442661801623
         ],
         "title": {
          "text": "Residual Sum of Squares"
         },
         "type": "log"
        },
        "yaxis": {
         "autorange": true,
         "range": [
          -0.9023176649716083,
          0.026308920335634
         ],
         "title": {
          "text": "Median nRMSE"
         },
         "type": "log"
        }
       }
      },
      "image/png": "[encoded data removed]",
      "text/html": [
       "<div>                            <div id=\"f9920910-df45-4d3b-b8c8-01b2bf9417ad\" class=\"plotly-graph-div\" style=\"height:800px; width:800px;\"></div>            <script type=\"text/javascript\">                require([\"plotly\"], function(Plotly) {                    window.PLOTLYENV=window.PLOTLYENV || {};                                    if (document.getElementById(\"f9920910-df45-4d3b-b8c8-01b2bf9417ad\")) {                    Plotly.newPlot(                        \"f9920910-df45-4d3b-b8c8-01b2bf9417ad\",                        [{\"mode\":\"markers\",\"x\":[0.2198970049997535,0.15900843163638415,0.32851438814808437,0.020759434884975673,0.12415956476491213,0.014575593952985893,0.15942015763045164,0.029290893880020957,0.0021817908286350246,0.00014612415841384492,0.12677645335763355,0.04099089237575804,0.0034755534908001095,0.0001941554876944987,0.1272920848687111,0.03205344607325994,0.002228250032826815,0.0001456794974833976,0.09457876006662932,0.037301393011699484,0.003182763324338929,0.00014365461103788043],\"y\":[0.5935084854795166,0.4557512646456298,0.508672429474915,0.5512800331240334,0.41110323772783297,0.566365388633265,0.3304668431425198,0.42711593026811956,0.954723452628578,0.13935214700424095,0.35955956350808693,0.3756309426378455,0.7801628369967084,0.15274209377053816,0.3454572397381546,0.44002964470472117,0.5377290491499842,0.14511335183019752,0.4024014801250622,0.4775777378941963,0.588443738569465,0.15063737201918168],\"type\":\"scatter\"}],                        {\"template\":{\"data\":{\"histogram2dcontour\":[{\"type\":\"histogram2dcontour\",\"colorbar\":{\"outlinewidth\":0,\"ticks\":\"\"},\"colorscale\":[[0.0,\"#0d0887\"],[0.1111111111111111,\"#46039f\"],[0.2222222222222222,\"#7201a8\"],[0.3333333333333333,\"#9c179e\"],[0.4444444444444444,\"#bd3786\"],[0.5555555555555556,\"#d8576b\"],[0.6666666666666666,\"#ed7953\"],[0.7777777777777778,\"#fb9f3a\"],[0.8888888888888888,\"#fdca26\"],[1.0,\"#f0f921\"]]}],\"choropleth\":[{\"type\":\"choropleth\",\"colorbar\":{\"outlinewidth\":0,\"ticks\":\"\"}}],\"histogram2d\":[{\"type\":\"histogram2d\",\"colorbar\":{\"outlinewidth\":0,\"ticks\":\"\"},\"colorscale\":[[0.0,\"#0d0887\"],[0.1111111111111111,\"#46039f\"],[0.2222222222222222,\"#7201a8\"],[0.3333333333333333,\"#9c179e\"],[0.4444444444444444,\"#bd3786\"],[0.5555555555555556,\"#d8576b\"],[0.6666666666666666,\"#ed7953\"],[0.7777777777777778,\"#fb9f3a\"],[0.8888888888888888,\"#fdca26\"],[1.0,\"#f0f921\"]]}],\"heatmap\":[{\"type\":\"heatmap\",\"colorbar\":{\"outlinewidth\":0,\"ticks\":\"\"},\"colorscale\":[[0.0,\"#0d0887\"],[0.1111111111111111,\"#46039f\"],[0.2222222222222222,\"#7201a8\"],[0.3333333333333333,\"#9c179e\"],[0.4444444444444444,\"#bd3786\"],[0.5555555555555556,\"#d8576b\"],[0.6666666666666666,\"#ed7953\"],[0.7777777777777778,\"#fb9f3a\"],[0.8888888888888888,\"#fdca26\"],[1.0,\"#f0f921\"]]}],\"heatmapgl\":[{\"type\":\"heatmapgl\",\"colorbar\":{\"outlinewidth\":0,\"ticks\":\"\"},\"colorscale\":[[0.0,\"#0d0887\"],[0.1111111111111111,\"#46039f\"],[0.2222222222222222,\"#7201a8\"],[0.3333333333333333,\"#9c179e\"],[0.4444444444444444,\"#bd3786\"],[0.5555555555555556,\"#d8576b\"],[0.6666666666666666,\"#ed7953\"],[0.7777777777777778,\"#fb9f3a\"],[0.8888888888888888,\"#fdca26\"],[1.0,\"#f0f921\"]]}],\"contourcarpet\":[{\"type\":\"contourcarpet\",\"colorbar\":{\"outlinewidth\":0,\"ticks\":\"\"}}],\"contour\":[{\"type\":\"contour\",\"colorbar\":{\"outlinewidth\":0,\"ticks\":\"\"},\"colorscale\":[[0.0,\"#0d0887\"],[0.1111111111111111,\"#46039f\"],[0.2222222222222222,\"#7201a8\"],[0.3333333333333333,\"#9c179e\"],[0.4444444444444444,\"#bd3786\"],[0.5555555555555556,\"#d8576b\"],[0.6666666666666666,\"#ed7953\"],[0.7777777777777778,\"#fb9f3a\"],[0.8888888888888888,\"#fdca26\"],[1.0,\"#f0f921\"]]}],\"surface\":[{\"type\":\"surface\",\"colorbar\":{\"outlinewidth\":0,\"ticks\":\"\"},\"colorscale\":[[0.0,\"#0d0887\"],[0.1111111111111111,\"#46039f\"],[0.2222222222222222,\"#7201a8\"],[0.3333333333333333,\"#9c179e\"],[0.4444444444444444,\"#bd3786\"],[0.5555555555555556,\"#d8576b\"],[0.6666666666666666,\"#ed7953\"],[0.7777777777777778,\"#fb9f3a\"],[0.8888888888888888,\"#fdca26\"],[1.0,\"#f0f921\"]]}],\"mesh3d\":[{\"type\":\"mesh3d\",\"colorbar\":{\"outlinewidth\":0,\"ticks\":\"\"}}],\"scatter\":[{\"fillpattern\":{\"fillmode\":\"overlay\",\"size\":10,\"solidity\":0.2},\"type\":\"scatter\"}],\"parcoords\":[{\"type\":\"parcoords\",\"line\":{\"colorbar\":{\"outlinewidth\":0,\"ticks\":\"\"}}}],\"scatterpolargl\":[{\"type\":\"scatterpolargl\",\"marker\":{\"colorbar\":{\"outlinewidth\":0,\"ticks\":\"\"}}}],\"bar\":[{\"error_x\":{\"color\":\"#2a3f5f\"},\"error_y\":{\"color\":\"#2a3f5f\"},\"marker\":{\"line\":{\"color\":\"#E5ECF6\",\"width\":0.5},\"pattern\":{\"fillmode\":\"overlay\",\"size\":10,\"solidity\":0.2}},\"type\":\"bar\"}],\"scattergeo\":[{\"type\":\"scattergeo\",\"marker\":{\"colorbar\":{\"outlinewidth\":0,\"ticks\":\"\"}}}],\"scatterpolar\":[{\"type\":\"scatterpolar\",\"marker\":{\"colorbar\":{\"outlinewidth\":0,\"ticks\":\"\"}}}],\"histogram\":[{\"marker\":{\"pattern\":{\"fillmode\":\"overlay\",\"size\":10,\"solidity\":0.2}},\"type\":\"histogram\"}],\"scattergl\":[{\"type\":\"scattergl\",\"marker\":{\"colorbar\":{\"outlinewidth\":0,\"ticks\":\"\"}}}],\"scatter3d\":[{\"type\":\"scatter3d\",\"line\":{\"colorbar\":{\"outlinewidth\":0,\"ticks\":\"\"}},\"marker\":{\"colorbar\":{\"outlinewidth\":0,\"ticks\":\"\"}}}],\"scattermapbox\":[{\"type\":\"scattermapbox\",\"marker\":{\"colorbar\":{\"outlinewidth\":0,\"ticks\":\"\"}}}],\"scatterternary\":[{\"type\":\"scatterternary\",\"marker\":{\"colorbar\":{\"outlinewidth\":0,\"ticks\":\"\"}}}],\"scattercarpet\":[{\"type\":\"scattercarpet\",\"marker\":{\"colorbar\":{\"outlinewidth\":0,\"ticks\":\"\"}}}],\"carpet\":[{\"aaxis\":{\"endlinecolor\":\"#2a3f5f\",\"gridcolor\":\"white\",\"linecolor\":\"white\",\"minorgridcolor\":\"white\",\"startlinecolor\":\"#2a3f5f\"},\"baxis\":{\"endlinecolor\":\"#2a3f5f\",\"gridcolor\":\"white\",\"linecolor\":\"white\",\"minorgridcolor\":\"white\",\"startlinecolor\":\"#2a3f5f\"},\"type\":\"carpet\"}],\"table\":[{\"cells\":{\"fill\":{\"color\":\"#EBF0F8\"},\"line\":{\"color\":\"white\"}},\"header\":{\"fill\":{\"color\":\"#C8D4E3\"},\"line\":{\"color\":\"white\"}},\"type\":\"table\"}],\"barpolar\":[{\"marker\":{\"line\":{\"color\":\"#E5ECF6\",\"width\":0.5},\"pattern\":{\"fillmode\":\"overlay\",\"size\":10,\"solidity\":0.2}},\"type\":\"barpolar\"}],\"pie\":[{\"automargin\":true,\"type\":\"pie\"}]},\"layout\":{\"autotypenumbers\":\"strict\",\"colorway\":[\"#636efa\",\"#EF553B\",\"#00cc96\",\"#ab63fa\",\"#FFA15A\",\"#19d3f3\",\"#FF6692\",\"#B6E880\",\"#FF97FF\",\"#FECB52\"],\"font\":{\"color\":\"#2a3f5f\"},\"hovermode\":\"closest\",\"hoverlabel\":{\"align\":\"left\"},\"paper_bgcolor\":\"white\",\"plot_bgcolor\":\"#E5ECF6\",\"polar\":{\"bgcolor\":\"#E5ECF6\",\"angularaxis\":{\"gridcolor\":\"white\",\"linecolor\":\"white\",\"ticks\":\"\"},\"radialaxis\":{\"gridcolor\":\"white\",\"linecolor\":\"white\",\"ticks\":\"\"}},\"ternary\":{\"bgcolor\":\"#E5ECF6\",\"aaxis\":{\"gridcolor\":\"white\",\"linecolor\":\"white\",\"ticks\":\"\"},\"baxis\":{\"gridcolor\":\"white\",\"linecolor\":\"white\",\"ticks\":\"\"},\"caxis\":{\"gridcolor\":\"white\",\"linecolor\":\"white\",\"ticks\":\"\"}},\"coloraxis\":{\"colorbar\":{\"outlinewidth\":0,\"ticks\":\"\"}},\"colorscale\":{\"sequential\":[[0.0,\"#0d0887\"],[0.1111111111111111,\"#46039f\"],[0.2222222222222222,\"#7201a8\"],[0.3333333333333333,\"#9c179e\"],[0.4444444444444444,\"#bd3786\"],[0.5555555555555556,\"#d8576b\"],[0.6666666666666666,\"#ed7953\"],[0.7777777777777778,\"#fb9f3a\"],[0.8888888888888888,\"#fdca26\"],[1.0,\"#f0f921\"]],\"sequentialminus\":[[0.0,\"#0d0887\"],[0.1111111111111111,\"#46039f\"],[0.2222222222222222,\"#7201a8\"],[0.3333333333333333,\"#9c179e\"],[0.4444444444444444,\"#bd3786\"],[0.5555555555555556,\"#d8576b\"],[0.6666666666666666,\"#ed7953\"],[0.7777777777777778,\"#fb9f3a\"],[0.8888888888888888,\"#fdca26\"],[1.0,\"#f0f921\"]],\"diverging\":[[0,\"#8e0152\"],[0.1,\"#c51b7d\"],[0.2,\"#de77ae\"],[0.3,\"#f1b6da\"],[0.4,\"#fde0ef\"],[0.5,\"#f7f7f7\"],[0.6,\"#e6f5d0\"],[0.7,\"#b8e186\"],[0.8,\"#7fbc41\"],[0.9,\"#4d9221\"],[1,\"#276419\"]]},\"xaxis\":{\"gridcolor\":\"white\",\"linecolor\":\"white\",\"ticks\":\"\",\"title\":{\"standoff\":15},\"zerolinecolor\":\"white\",\"automargin\":true,\"zerolinewidth\":2},\"yaxis\":{\"gridcolor\":\"white\",\"linecolor\":\"white\",\"ticks\":\"\",\"title\":{\"standoff\":15},\"zerolinecolor\":\"white\",\"automargin\":true,\"zerolinewidth\":2},\"scene\":{\"xaxis\":{\"backgroundcolor\":\"#E5ECF6\",\"gridcolor\":\"white\",\"linecolor\":\"white\",\"showbackground\":true,\"ticks\":\"\",\"zerolinecolor\":\"white\",\"gridwidth\":2},\"yaxis\":{\"backgroundcolor\":\"#E5ECF6\",\"gridcolor\":\"white\",\"linecolor\":\"white\",\"showbackground\":true,\"ticks\":\"\",\"zerolinecolor\":\"white\",\"gridwidth\":2},\"zaxis\":{\"backgroundcolor\":\"#E5ECF6\",\"gridcolor\":\"white\",\"linecolor\":\"white\",\"showbackground\":true,\"ticks\":\"\",\"zerolinecolor\":\"white\",\"gridwidth\":2}},\"shapedefaults\":{\"line\":{\"color\":\"#2a3f5f\"}},\"annotationdefaults\":{\"arrowcolor\":\"#2a3f5f\",\"arrowhead\":0,\"arrowwidth\":1},\"geo\":{\"bgcolor\":\"white\",\"landcolor\":\"#E5ECF6\",\"subunitcolor\":\"white\",\"showland\":true,\"showlakes\":true,\"lakecolor\":\"white\"},\"title\":{\"x\":0.05},\"mapbox\":{\"style\":\"light\"}}},\"margin\":{\"pad\":0,\"b\":0,\"t\":0,\"l\":0,\"r\":0},\"font\":{\"size\":16},\"showlegend\":false,\"paper_bgcolor\":\"rgba(0,0,0,0)\",\"plot_bgcolor\":\"rgba(0,0,0,0)\",\"colorway\":[\"#1d2021\"],\"scattermode\":\"group\",\"width\":800,\"height\":800,\"xaxis\":{\"type\":\"log\",\"title\":{\"text\":\"Residual Sum of Squares\"}},\"yaxis\":{\"type\":\"log\",\"title\":{\"text\":\"Median nRMSE\"}}},                        {\"responsive\": true}                    ).then(function(){\n",
       "                            \n",
       "var gd = document.getElementById('f9920910-df45-4d3b-b8c8-01b2bf9417ad');\n",
       "var x = new MutationObserver(function (mutations, observer) {{\n",
       "        var display = window.getComputedStyle(gd).display;\n",
       "        if (!display || display === 'none') {{\n",
       "            console.log([gd, 'removed!']);\n",
       "            Plotly.purge(gd);\n",
       "            observer.disconnect();\n",
       "        }}\n",
       "}});\n",
       "\n",
       "// Listen for the removal of the full notebook cells\n",
       "var notebookContainer = gd.closest('#notebook-container');\n",
       "if (notebookContainer) {{\n",
       "    x.observe(notebookContainer, {childList: true});\n",
       "}}\n",
       "\n",
       "// Listen for the clearing of the current output cell\n",
       "var outputEl = gd.closest('.output');\n",
       "if (outputEl) {{\n",
       "    x.observe(outputEl, {childList: true});\n",
       "}}\n",
       "\n",
       "                        })                };                });            </script>        </div>"
      ]
     },
     "metadata": {},
     "output_type": "display_data"
    },
    {
     "data": {
      "application/vnd.plotly.v1+json": {
       "config": {
        "plotlyServerURL": "https://plot.ly"
       },
       "data": [
        {
         "mode": "markers",
         "type": "scatter",
         "x": [
          0.14417272847214024,
          0.1479213758056724,
          0.021022585324338216,
          9.382245445971836e-05,
          0.018982895816406657,
          0.036599638178930714,
          0.0030751091769418495,
          0.0004679565220196025,
          0.0006715390791725393,
          0.0006813022476369866,
          0.011791322374667276,
          0.00024580519450751554,
          0.01065164382326283,
          0.0256537009536534,
          0.000792013222572894,
          4.994949225855335e-05,
          0.016659908024036406,
          0.023544477675803435,
          0.002154099364819906,
          0.00032191567618245566
         ],
         "y": [
          0.6177268779606236,
          0.6977490305898895,
          0.4769992787145593,
          0.1816536733991105,
          1.0525606770359655,
          0.7225277023578621,
          0.31661873440208843,
          0.15937123565548258,
          1.4023326622046928,
          0.9938378792777431,
          0.3252848712612753,
          0.14967803311286687,
          0.40400770016510523,
          0.3760095615262461,
          0.3848572000711992,
          0.15647299619429436,
          0.4026150391515234,
          0.9937662814081263,
          0.3039484326206651,
          0.10812337458396143
         ]
        }
       ],
       "layout": {
        "colorway": [
         "#1d2021"
        ],
        "font": {
         "size": 16
        },
        "height": 800,
        "margin": {
         "b": 0,
         "l": 0,
         "pad": 0,
         "r": 0,
         "t": 0
        },
        "paper_bgcolor": "rgba(0, 0, 0, 0)",
        "plot_bgcolor": "rgba(0, 0, 0, 0)",
        "scattermode": "group",
        "showlegend": false,
        "template": {
         "data": {
          "bar": [
           {
            "error_x": {
             "color": "#2a3f5f"
            },
            "error_y": {
             "color": "#2a3f5f"
            },
            "marker": {
             "line": {
              "color": "#E5ECF6",
              "width": 0.5
             },
             "pattern": {
              "fillmode": "overlay",
              "size": 10,
              "solidity": 0.2
             }
            },
            "type": "bar"
           }
          ],
          "barpolar": [
           {
            "marker": {
             "line": {
              "color": "#E5ECF6",
              "width": 0.5
             },
             "pattern": {
              "fillmode": "overlay",
              "size": 10,
              "solidity": 0.2
             }
            },
            "type": "barpolar"
           }
          ],
          "carpet": [
           {
            "aaxis": {
             "endlinecolor": "#2a3f5f",
             "gridcolor": "white",
             "linecolor": "white",
             "minorgridcolor": "white",
             "startlinecolor": "#2a3f5f"
            },
            "baxis": {
             "endlinecolor": "#2a3f5f",
             "gridcolor": "white",
             "linecolor": "white",
             "minorgridcolor": "white",
             "startlinecolor": "#2a3f5f"
            },
            "type": "carpet"
           }
          ],
          "choropleth": [
           {
            "colorbar": {
             "outlinewidth": 0,
             "ticks": ""
            },
            "type": "choropleth"
           }
          ],
          "contour": [
           {
            "colorbar": {
             "outlinewidth": 0,
             "ticks": ""
            },
            "colorscale": [
             [
              0,
              "#0d0887"
             ],
             [
              0.1111111111111111,
              "#46039f"
             ],
             [
              0.2222222222222222,
              "#7201a8"
             ],
             [
              0.3333333333333333,
              "#9c179e"
             ],
             [
              0.4444444444444444,
              "#bd3786"
             ],
             [
              0.5555555555555556,
              "#d8576b"
             ],
             [
              0.6666666666666666,
              "#ed7953"
             ],
             [
              0.7777777777777778,
              "#fb9f3a"
             ],
             [
              0.8888888888888888,
              "#fdca26"
             ],
             [
              1,
              "#f0f921"
             ]
            ],
            "type": "contour"
           }
          ],
          "contourcarpet": [
           {
            "colorbar": {
             "outlinewidth": 0,
             "ticks": ""
            },
            "type": "contourcarpet"
           }
          ],
          "heatmap": [
           {
            "colorbar": {
             "outlinewidth": 0,
             "ticks": ""
            },
            "colorscale": [
             [
              0,
              "#0d0887"
             ],
             [
              0.1111111111111111,
              "#46039f"
             ],
             [
              0.2222222222222222,
              "#7201a8"
             ],
             [
              0.3333333333333333,
              "#9c179e"
             ],
             [
              0.4444444444444444,
              "#bd3786"
             ],
             [
              0.5555555555555556,
              "#d8576b"
             ],
             [
              0.6666666666666666,
              "#ed7953"
             ],
             [
              0.7777777777777778,
              "#fb9f3a"
             ],
             [
              0.8888888888888888,
              "#fdca26"
             ],
             [
              1,
              "#f0f921"
             ]
            ],
            "type": "heatmap"
           }
          ],
          "heatmapgl": [
           {
            "colorbar": {
             "outlinewidth": 0,
             "ticks": ""
            },
            "colorscale": [
             [
              0,
              "#0d0887"
             ],
             [
              0.1111111111111111,
              "#46039f"
             ],
             [
              0.2222222222222222,
              "#7201a8"
             ],
             [
              0.3333333333333333,
              "#9c179e"
             ],
             [
              0.4444444444444444,
              "#bd3786"
             ],
             [
              0.5555555555555556,
              "#d8576b"
             ],
             [
              0.6666666666666666,
              "#ed7953"
             ],
             [
              0.7777777777777778,
              "#fb9f3a"
             ],
             [
              0.8888888888888888,
              "#fdca26"
             ],
             [
              1,
              "#f0f921"
             ]
            ],
            "type": "heatmapgl"
           }
          ],
          "histogram": [
           {
            "marker": {
             "pattern": {
              "fillmode": "overlay",
              "size": 10,
              "solidity": 0.2
             }
            },
            "type": "histogram"
           }
          ],
          "histogram2d": [
           {
            "colorbar": {
             "outlinewidth": 0,
             "ticks": ""
            },
            "colorscale": [
             [
              0,
              "#0d0887"
             ],
             [
              0.1111111111111111,
              "#46039f"
             ],
             [
              0.2222222222222222,
              "#7201a8"
             ],
             [
              0.3333333333333333,
              "#9c179e"
             ],
             [
              0.4444444444444444,
              "#bd3786"
             ],
             [
              0.5555555555555556,
              "#d8576b"
             ],
             [
              0.6666666666666666,
              "#ed7953"
             ],
             [
              0.7777777777777778,
              "#fb9f3a"
             ],
             [
              0.8888888888888888,
              "#fdca26"
             ],
             [
              1,
              "#f0f921"
             ]
            ],
            "type": "histogram2d"
           }
          ],
          "histogram2dcontour": [
           {
            "colorbar": {
             "outlinewidth": 0,
             "ticks": ""
            },
            "colorscale": [
             [
              0,
              "#0d0887"
             ],
             [
              0.1111111111111111,
              "#46039f"
             ],
             [
              0.2222222222222222,
              "#7201a8"
             ],
             [
              0.3333333333333333,
              "#9c179e"
             ],
             [
              0.4444444444444444,
              "#bd3786"
             ],
             [
              0.5555555555555556,
              "#d8576b"
             ],
             [
              0.6666666666666666,
              "#ed7953"
             ],
             [
              0.7777777777777778,
              "#fb9f3a"
             ],
             [
              0.8888888888888888,
              "#fdca26"
             ],
             [
              1,
              "#f0f921"
             ]
            ],
            "type": "histogram2dcontour"
           }
          ],
          "mesh3d": [
           {
            "colorbar": {
             "outlinewidth": 0,
             "ticks": ""
            },
            "type": "mesh3d"
           }
          ],
          "parcoords": [
           {
            "line": {
             "colorbar": {
              "outlinewidth": 0,
              "ticks": ""
             }
            },
            "type": "parcoords"
           }
          ],
          "pie": [
           {
            "automargin": true,
            "type": "pie"
           }
          ],
          "scatter": [
           {
            "fillpattern": {
             "fillmode": "overlay",
             "size": 10,
             "solidity": 0.2
            },
            "type": "scatter"
           }
          ],
          "scatter3d": [
           {
            "line": {
             "colorbar": {
              "outlinewidth": 0,
              "ticks": ""
             }
            },
            "marker": {
             "colorbar": {
              "outlinewidth": 0,
              "ticks": ""
             }
            },
            "type": "scatter3d"
           }
          ],
          "scattercarpet": [
           {
            "marker": {
             "colorbar": {
              "outlinewidth": 0,
              "ticks": ""
             }
            },
            "type": "scattercarpet"
           }
          ],
          "scattergeo": [
           {
            "marker": {
             "colorbar": {
              "outlinewidth": 0,
              "ticks": ""
             }
            },
            "type": "scattergeo"
           }
          ],
          "scattergl": [
           {
            "marker": {
             "colorbar": {
              "outlinewidth": 0,
              "ticks": ""
             }
            },
            "type": "scattergl"
           }
          ],
          "scattermapbox": [
           {
            "marker": {
             "colorbar": {
              "outlinewidth": 0,
              "ticks": ""
             }
            },
            "type": "scattermapbox"
           }
          ],
          "scatterpolar": [
           {
            "marker": {
             "colorbar": {
              "outlinewidth": 0,
              "ticks": ""
             }
            },
            "type": "scatterpolar"
           }
          ],
          "scatterpolargl": [
           {
            "marker": {
             "colorbar": {
              "outlinewidth": 0,
              "ticks": ""
             }
            },
            "type": "scatterpolargl"
           }
          ],
          "scatterternary": [
           {
            "marker": {
             "colorbar": {
              "outlinewidth": 0,
              "ticks": ""
             }
            },
            "type": "scatterternary"
           }
          ],
          "surface": [
           {
            "colorbar": {
             "outlinewidth": 0,
             "ticks": ""
            },
            "colorscale": [
             [
              0,
              "#0d0887"
             ],
             [
              0.1111111111111111,
              "#46039f"
             ],
             [
              0.2222222222222222,
              "#7201a8"
             ],
             [
              0.3333333333333333,
              "#9c179e"
             ],
             [
              0.4444444444444444,
              "#bd3786"
             ],
             [
              0.5555555555555556,
              "#d8576b"
             ],
             [
              0.6666666666666666,
              "#ed7953"
             ],
             [
              0.7777777777777778,
              "#fb9f3a"
             ],
             [
              0.8888888888888888,
              "#fdca26"
             ],
             [
              1,
              "#f0f921"
             ]
            ],
            "type": "surface"
           }
          ],
          "table": [
           {
            "cells": {
             "fill": {
              "color": "#EBF0F8"
             },
             "line": {
              "color": "white"
             }
            },
            "header": {
             "fill": {
              "color": "#C8D4E3"
             },
             "line": {
              "color": "white"
             }
            },
            "type": "table"
           }
          ]
         },
         "layout": {
          "annotationdefaults": {
           "arrowcolor": "#2a3f5f",
           "arrowhead": 0,
           "arrowwidth": 1
          },
          "autotypenumbers": "strict",
          "coloraxis": {
           "colorbar": {
            "outlinewidth": 0,
            "ticks": ""
           }
          },
          "colorscale": {
           "diverging": [
            [
             0,
             "#8e0152"
            ],
            [
             0.1,
             "#c51b7d"
            ],
            [
             0.2,
             "#de77ae"
            ],
            [
             0.3,
             "#f1b6da"
            ],
            [
             0.4,
             "#fde0ef"
            ],
            [
             0.5,
             "#f7f7f7"
            ],
            [
             0.6,
             "#e6f5d0"
            ],
            [
             0.7,
             "#b8e186"
            ],
            [
             0.8,
             "#7fbc41"
            ],
            [
             0.9,
             "#4d9221"
            ],
            [
             1,
             "#276419"
            ]
           ],
           "sequential": [
            [
             0,
             "#0d0887"
            ],
            [
             0.1111111111111111,
             "#46039f"
            ],
            [
             0.2222222222222222,
             "#7201a8"
            ],
            [
             0.3333333333333333,
             "#9c179e"
            ],
            [
             0.4444444444444444,
             "#bd3786"
            ],
            [
             0.5555555555555556,
             "#d8576b"
            ],
            [
             0.6666666666666666,
             "#ed7953"
            ],
            [
             0.7777777777777778,
             "#fb9f3a"
            ],
            [
             0.8888888888888888,
             "#fdca26"
            ],
            [
             1,
             "#f0f921"
            ]
           ],
           "sequentialminus": [
            [
             0,
             "#0d0887"
            ],
            [
             0.1111111111111111,
             "#46039f"
            ],
            [
             0.2222222222222222,
             "#7201a8"
            ],
            [
             0.3333333333333333,
             "#9c179e"
            ],
            [
             0.4444444444444444,
             "#bd3786"
            ],
            [
             0.5555555555555556,
             "#d8576b"
            ],
            [
             0.6666666666666666,
             "#ed7953"
            ],
            [
             0.7777777777777778,
             "#fb9f3a"
            ],
            [
             0.8888888888888888,
             "#fdca26"
            ],
            [
             1,
             "#f0f921"
            ]
           ]
          },
          "colorway": [
           "#636efa",
           "#EF553B",
           "#00cc96",
           "#ab63fa",
           "#FFA15A",
           "#19d3f3",
           "#FF6692",
           "#B6E880",
           "#FF97FF",
           "#FECB52"
          ],
          "font": {
           "color": "#2a3f5f"
          },
          "geo": {
           "bgcolor": "white",
           "lakecolor": "white",
           "landcolor": "#E5ECF6",
           "showlakes": true,
           "showland": true,
           "subunitcolor": "white"
          },
          "hoverlabel": {
           "align": "left"
          },
          "hovermode": "closest",
          "mapbox": {
           "style": "light"
          },
          "paper_bgcolor": "white",
          "plot_bgcolor": "#E5ECF6",
          "polar": {
           "angularaxis": {
            "gridcolor": "white",
            "linecolor": "white",
            "ticks": ""
           },
           "bgcolor": "#E5ECF6",
           "radialaxis": {
            "gridcolor": "white",
            "linecolor": "white",
            "ticks": ""
           }
          },
          "scene": {
           "xaxis": {
            "backgroundcolor": "#E5ECF6",
            "gridcolor": "white",
            "gridwidth": 2,
            "linecolor": "white",
            "showbackground": true,
            "ticks": "",
            "zerolinecolor": "white"
           },
           "yaxis": {
            "backgroundcolor": "#E5ECF6",
            "gridcolor": "white",
            "gridwidth": 2,
            "linecolor": "white",
            "showbackground": true,
            "ticks": "",
            "zerolinecolor": "white"
           },
           "zaxis": {
            "backgroundcolor": "#E5ECF6",
            "gridcolor": "white",
            "gridwidth": 2,
            "linecolor": "white",
            "showbackground": true,
            "ticks": "",
            "zerolinecolor": "white"
           }
          },
          "shapedefaults": {
           "line": {
            "color": "#2a3f5f"
           }
          },
          "ternary": {
           "aaxis": {
            "gridcolor": "white",
            "linecolor": "white",
            "ticks": ""
           },
           "baxis": {
            "gridcolor": "white",
            "linecolor": "white",
            "ticks": ""
           },
           "bgcolor": "#E5ECF6",
           "caxis": {
            "gridcolor": "white",
            "linecolor": "white",
            "ticks": ""
           }
          },
          "title": {
           "x": 0.05
          },
          "xaxis": {
           "automargin": true,
           "gridcolor": "white",
           "linecolor": "white",
           "ticks": "",
           "title": {
            "standoff": 15
           },
           "zerolinecolor": "white",
           "zerolinewidth": 2
          },
          "yaxis": {
           "automargin": true,
           "gridcolor": "white",
           "linecolor": "white",
           "ticks": "",
           "title": {
            "standoff": 15
           },
           "zerolinecolor": "white",
           "zerolinewidth": 2
          }
         }
        },
        "width": 800,
        "xaxis": {
         "autorange": true,
         "range": [
          -4.34613260065339,
          -0.8299547304830861
         ],
         "title": {
          "text": "Residual Sum of Squares"
         },
         "type": "log"
        },
        "yaxis": {
         "autorange": true,
         "range": [
          -1.027909933642408,
          0.20868057487870073
         ],
         "title": {
          "text": "Median nRMSE"
         },
         "type": "log"
        }
       }
      },
      "image/png": "[encoded data removed]",
      "text/html": [
       "<div>                            <div id=\"df75fabb-3df9-45c6-907c-d6632347a7a6\" class=\"plotly-graph-div\" style=\"height:800px; width:800px;\"></div>            <script type=\"text/javascript\">                require([\"plotly\"], function(Plotly) {                    window.PLOTLYENV=window.PLOTLYENV || {};                                    if (document.getElementById(\"df75fabb-3df9-45c6-907c-d6632347a7a6\")) {                    Plotly.newPlot(                        \"df75fabb-3df9-45c6-907c-d6632347a7a6\",                        [{\"mode\":\"markers\",\"x\":[0.14417272847214024,0.1479213758056724,0.021022585324338216,0.00009382245445971836,0.018982895816406657,0.036599638178930714,0.0030751091769418495,0.0004679565220196025,0.0006715390791725393,0.0006813022476369866,0.011791322374667276,0.00024580519450751554,0.01065164382326283,0.0256537009536534,0.000792013222572894,0.00004994949225855335,0.016659908024036406,0.023544477675803435,0.002154099364819906,0.00032191567618245566],\"y\":[0.6177268779606236,0.6977490305898895,0.4769992787145593,0.1816536733991105,1.0525606770359655,0.7225277023578621,0.31661873440208843,0.15937123565548258,1.4023326622046928,0.9938378792777431,0.3252848712612753,0.14967803311286687,0.40400770016510523,0.3760095615262461,0.3848572000711992,0.15647299619429436,0.4026150391515234,0.9937662814081263,0.3039484326206651,0.10812337458396143],\"type\":\"scatter\"}],                        {\"template\":{\"data\":{\"histogram2dcontour\":[{\"type\":\"histogram2dcontour\",\"colorbar\":{\"outlinewidth\":0,\"ticks\":\"\"},\"colorscale\":[[0.0,\"#0d0887\"],[0.1111111111111111,\"#46039f\"],[0.2222222222222222,\"#7201a8\"],[0.3333333333333333,\"#9c179e\"],[0.4444444444444444,\"#bd3786\"],[0.5555555555555556,\"#d8576b\"],[0.6666666666666666,\"#ed7953\"],[0.7777777777777778,\"#fb9f3a\"],[0.8888888888888888,\"#fdca26\"],[1.0,\"#f0f921\"]]}],\"choropleth\":[{\"type\":\"choropleth\",\"colorbar\":{\"outlinewidth\":0,\"ticks\":\"\"}}],\"histogram2d\":[{\"type\":\"histogram2d\",\"colorbar\":{\"outlinewidth\":0,\"ticks\":\"\"},\"colorscale\":[[0.0,\"#0d0887\"],[0.1111111111111111,\"#46039f\"],[0.2222222222222222,\"#7201a8\"],[0.3333333333333333,\"#9c179e\"],[0.4444444444444444,\"#bd3786\"],[0.5555555555555556,\"#d8576b\"],[0.6666666666666666,\"#ed7953\"],[0.7777777777777778,\"#fb9f3a\"],[0.8888888888888888,\"#fdca26\"],[1.0,\"#f0f921\"]]}],\"heatmap\":[{\"type\":\"heatmap\",\"colorbar\":{\"outlinewidth\":0,\"ticks\":\"\"},\"colorscale\":[[0.0,\"#0d0887\"],[0.1111111111111111,\"#46039f\"],[0.2222222222222222,\"#7201a8\"],[0.3333333333333333,\"#9c179e\"],[0.4444444444444444,\"#bd3786\"],[0.5555555555555556,\"#d8576b\"],[0.6666666666666666,\"#ed7953\"],[0.7777777777777778,\"#fb9f3a\"],[0.8888888888888888,\"#fdca26\"],[1.0,\"#f0f921\"]]}],\"heatmapgl\":[{\"type\":\"heatmapgl\",\"colorbar\":{\"outlinewidth\":0,\"ticks\":\"\"},\"colorscale\":[[0.0,\"#0d0887\"],[0.1111111111111111,\"#46039f\"],[0.2222222222222222,\"#7201a8\"],[0.3333333333333333,\"#9c179e\"],[0.4444444444444444,\"#bd3786\"],[0.5555555555555556,\"#d8576b\"],[0.6666666666666666,\"#ed7953\"],[0.7777777777777778,\"#fb9f3a\"],[0.8888888888888888,\"#fdca26\"],[1.0,\"#f0f921\"]]}],\"contourcarpet\":[{\"type\":\"contourcarpet\",\"colorbar\":{\"outlinewidth\":0,\"ticks\":\"\"}}],\"contour\":[{\"type\":\"contour\",\"colorbar\":{\"outlinewidth\":0,\"ticks\":\"\"},\"colorscale\":[[0.0,\"#0d0887\"],[0.1111111111111111,\"#46039f\"],[0.2222222222222222,\"#7201a8\"],[0.3333333333333333,\"#9c179e\"],[0.4444444444444444,\"#bd3786\"],[0.5555555555555556,\"#d8576b\"],[0.6666666666666666,\"#ed7953\"],[0.7777777777777778,\"#fb9f3a\"],[0.8888888888888888,\"#fdca26\"],[1.0,\"#f0f921\"]]}],\"surface\":[{\"type\":\"surface\",\"colorbar\":{\"outlinewidth\":0,\"ticks\":\"\"},\"colorscale\":[[0.0,\"#0d0887\"],[0.1111111111111111,\"#46039f\"],[0.2222222222222222,\"#7201a8\"],[0.3333333333333333,\"#9c179e\"],[0.4444444444444444,\"#bd3786\"],[0.5555555555555556,\"#d8576b\"],[0.6666666666666666,\"#ed7953\"],[0.7777777777777778,\"#fb9f3a\"],[0.8888888888888888,\"#fdca26\"],[1.0,\"#f0f921\"]]}],\"mesh3d\":[{\"type\":\"mesh3d\",\"colorbar\":{\"outlinewidth\":0,\"ticks\":\"\"}}],\"scatter\":[{\"fillpattern\":{\"fillmode\":\"overlay\",\"size\":10,\"solidity\":0.2},\"type\":\"scatter\"}],\"parcoords\":[{\"type\":\"parcoords\",\"line\":{\"colorbar\":{\"outlinewidth\":0,\"ticks\":\"\"}}}],\"scatterpolargl\":[{\"type\":\"scatterpolargl\",\"marker\":{\"colorbar\":{\"outlinewidth\":0,\"ticks\":\"\"}}}],\"bar\":[{\"error_x\":{\"color\":\"#2a3f5f\"},\"error_y\":{\"color\":\"#2a3f5f\"},\"marker\":{\"line\":{\"color\":\"#E5ECF6\",\"width\":0.5},\"pattern\":{\"fillmode\":\"overlay\",\"size\":10,\"solidity\":0.2}},\"type\":\"bar\"}],\"scattergeo\":[{\"type\":\"scattergeo\",\"marker\":{\"colorbar\":{\"outlinewidth\":0,\"ticks\":\"\"}}}],\"scatterpolar\":[{\"type\":\"scatterpolar\",\"marker\":{\"colorbar\":{\"outlinewidth\":0,\"ticks\":\"\"}}}],\"histogram\":[{\"marker\":{\"pattern\":{\"fillmode\":\"overlay\",\"size\":10,\"solidity\":0.2}},\"type\":\"histogram\"}],\"scattergl\":[{\"type\":\"scattergl\",\"marker\":{\"colorbar\":{\"outlinewidth\":0,\"ticks\":\"\"}}}],\"scatter3d\":[{\"type\":\"scatter3d\",\"line\":{\"colorbar\":{\"outlinewidth\":0,\"ticks\":\"\"}},\"marker\":{\"colorbar\":{\"outlinewidth\":0,\"ticks\":\"\"}}}],\"scattermapbox\":[{\"type\":\"scattermapbox\",\"marker\":{\"colorbar\":{\"outlinewidth\":0,\"ticks\":\"\"}}}],\"scatterternary\":[{\"type\":\"scatterternary\",\"marker\":{\"colorbar\":{\"outlinewidth\":0,\"ticks\":\"\"}}}],\"scattercarpet\":[{\"type\":\"scattercarpet\",\"marker\":{\"colorbar\":{\"outlinewidth\":0,\"ticks\":\"\"}}}],\"carpet\":[{\"aaxis\":{\"endlinecolor\":\"#2a3f5f\",\"gridcolor\":\"white\",\"linecolor\":\"white\",\"minorgridcolor\":\"white\",\"startlinecolor\":\"#2a3f5f\"},\"baxis\":{\"endlinecolor\":\"#2a3f5f\",\"gridcolor\":\"white\",\"linecolor\":\"white\",\"minorgridcolor\":\"white\",\"startlinecolor\":\"#2a3f5f\"},\"type\":\"carpet\"}],\"table\":[{\"cells\":{\"fill\":{\"color\":\"#EBF0F8\"},\"line\":{\"color\":\"white\"}},\"header\":{\"fill\":{\"color\":\"#C8D4E3\"},\"line\":{\"color\":\"white\"}},\"type\":\"table\"}],\"barpolar\":[{\"marker\":{\"line\":{\"color\":\"#E5ECF6\",\"width\":0.5},\"pattern\":{\"fillmode\":\"overlay\",\"size\":10,\"solidity\":0.2}},\"type\":\"barpolar\"}],\"pie\":[{\"automargin\":true,\"type\":\"pie\"}]},\"layout\":{\"autotypenumbers\":\"strict\",\"colorway\":[\"#636efa\",\"#EF553B\",\"#00cc96\",\"#ab63fa\",\"#FFA15A\",\"#19d3f3\",\"#FF6692\",\"#B6E880\",\"#FF97FF\",\"#FECB52\"],\"font\":{\"color\":\"#2a3f5f\"},\"hovermode\":\"closest\",\"hoverlabel\":{\"align\":\"left\"},\"paper_bgcolor\":\"white\",\"plot_bgcolor\":\"#E5ECF6\",\"polar\":{\"bgcolor\":\"#E5ECF6\",\"angularaxis\":{\"gridcolor\":\"white\",\"linecolor\":\"white\",\"ticks\":\"\"},\"radialaxis\":{\"gridcolor\":\"white\",\"linecolor\":\"white\",\"ticks\":\"\"}},\"ternary\":{\"bgcolor\":\"#E5ECF6\",\"aaxis\":{\"gridcolor\":\"white\",\"linecolor\":\"white\",\"ticks\":\"\"},\"baxis\":{\"gridcolor\":\"white\",\"linecolor\":\"white\",\"ticks\":\"\"},\"caxis\":{\"gridcolor\":\"white\",\"linecolor\":\"white\",\"ticks\":\"\"}},\"coloraxis\":{\"colorbar\":{\"outlinewidth\":0,\"ticks\":\"\"}},\"colorscale\":{\"sequential\":[[0.0,\"#0d0887\"],[0.1111111111111111,\"#46039f\"],[0.2222222222222222,\"#7201a8\"],[0.3333333333333333,\"#9c179e\"],[0.4444444444444444,\"#bd3786\"],[0.5555555555555556,\"#d8576b\"],[0.6666666666666666,\"#ed7953\"],[0.7777777777777778,\"#fb9f3a\"],[0.8888888888888888,\"#fdca26\"],[1.0,\"#f0f921\"]],\"sequentialminus\":[[0.0,\"#0d0887\"],[0.1111111111111111,\"#46039f\"],[0.2222222222222222,\"#7201a8\"],[0.3333333333333333,\"#9c179e\"],[0.4444444444444444,\"#bd3786\"],[0.5555555555555556,\"#d8576b\"],[0.6666666666666666,\"#ed7953\"],[0.7777777777777778,\"#fb9f3a\"],[0.8888888888888888,\"#fdca26\"],[1.0,\"#f0f921\"]],\"diverging\":[[0,\"#8e0152\"],[0.1,\"#c51b7d\"],[0.2,\"#de77ae\"],[0.3,\"#f1b6da\"],[0.4,\"#fde0ef\"],[0.5,\"#f7f7f7\"],[0.6,\"#e6f5d0\"],[0.7,\"#b8e186\"],[0.8,\"#7fbc41\"],[0.9,\"#4d9221\"],[1,\"#276419\"]]},\"xaxis\":{\"gridcolor\":\"white\",\"linecolor\":\"white\",\"ticks\":\"\",\"title\":{\"standoff\":15},\"zerolinecolor\":\"white\",\"automargin\":true,\"zerolinewidth\":2},\"yaxis\":{\"gridcolor\":\"white\",\"linecolor\":\"white\",\"ticks\":\"\",\"title\":{\"standoff\":15},\"zerolinecolor\":\"white\",\"automargin\":true,\"zerolinewidth\":2},\"scene\":{\"xaxis\":{\"backgroundcolor\":\"#E5ECF6\",\"gridcolor\":\"white\",\"linecolor\":\"white\",\"showbackground\":true,\"ticks\":\"\",\"zerolinecolor\":\"white\",\"gridwidth\":2},\"yaxis\":{\"backgroundcolor\":\"#E5ECF6\",\"gridcolor\":\"white\",\"linecolor\":\"white\",\"showbackground\":true,\"ticks\":\"\",\"zerolinecolor\":\"white\",\"gridwidth\":2},\"zaxis\":{\"backgroundcolor\":\"#E5ECF6\",\"gridcolor\":\"white\",\"linecolor\":\"white\",\"showbackground\":true,\"ticks\":\"\",\"zerolinecolor\":\"white\",\"gridwidth\":2}},\"shapedefaults\":{\"line\":{\"color\":\"#2a3f5f\"}},\"annotationdefaults\":{\"arrowcolor\":\"#2a3f5f\",\"arrowhead\":0,\"arrowwidth\":1},\"geo\":{\"bgcolor\":\"white\",\"landcolor\":\"#E5ECF6\",\"subunitcolor\":\"white\",\"showland\":true,\"showlakes\":true,\"lakecolor\":\"white\"},\"title\":{\"x\":0.05},\"mapbox\":{\"style\":\"light\"}}},\"margin\":{\"pad\":0,\"b\":0,\"t\":0,\"l\":0,\"r\":0},\"font\":{\"size\":16},\"showlegend\":false,\"paper_bgcolor\":\"rgba(0,0,0,0)\",\"plot_bgcolor\":\"rgba(0,0,0,0)\",\"colorway\":[\"#1d2021\"],\"scattermode\":\"group\",\"width\":800,\"height\":800,\"xaxis\":{\"type\":\"log\",\"title\":{\"text\":\"Residual Sum of Squares\"}},\"yaxis\":{\"type\":\"log\",\"title\":{\"text\":\"Median nRMSE\"}}},                        {\"responsive\": true}                    ).then(function(){\n",
       "                            \n",
       "var gd = document.getElementById('df75fabb-3df9-45c6-907c-d6632347a7a6');\n",
       "var x = new MutationObserver(function (mutations, observer) {{\n",
       "        var display = window.getComputedStyle(gd).display;\n",
       "        if (!display || display === 'none') {{\n",
       "            console.log([gd, 'removed!']);\n",
       "            Plotly.purge(gd);\n",
       "            observer.disconnect();\n",
       "        }}\n",
       "}});\n",
       "\n",
       "// Listen for the removal of the full notebook cells\n",
       "var notebookContainer = gd.closest('#notebook-container');\n",
       "if (notebookContainer) {{\n",
       "    x.observe(notebookContainer, {childList: true});\n",
       "}}\n",
       "\n",
       "// Listen for the clearing of the current output cell\n",
       "var outputEl = gd.closest('.output');\n",
       "if (outputEl) {{\n",
       "    x.observe(outputEl, {childList: true});\n",
       "}}\n",
       "\n",
       "                        })                };                });            </script>        </div>"
      ]
     },
     "metadata": {},
     "output_type": "display_data"
    }
   ],
   "source": [
    "import numpy as np\n",
    "import plotly.graph_objects as go\n",
    "\n",
    "\n",
    "FIGURE_LAYOUT = {\n",
    "    \"margin\": {\"pad\": 0, \"b\": 0, \"t\": 0, \"l\": 0, \"r\": 0},\n",
    "    \"showlegend\": False,\n",
    "    \"font\": {\"size\": 16},\n",
    "    \"paper_bgcolor\": \"rgba(0,0,0,0)\",\n",
    "    \"plot_bgcolor\": \"rgba(0,0,0,0)\",\n",
    "    \"colorway\": [\"#1d2021\"],\n",
    "    \"scattermode\": \"group\",\n",
    "}\n",
    "\n",
    "def plot_dists(dists, pollutants):\n",
    "    for pol, sites in dists.items():\n",
    "        if pol not in pollutants:\n",
    "            continue\n",
    "        fig = go.Figure()\n",
    "        min_x = min([r.mean()-5*r.std() for r in sites.values()])\n",
    "        max_x = max([r.mean()+5*r.std() for r in sites.values()])\n",
    "        try:\n",
    "            x = np.arange(-400, 400, 0.01)\n",
    "        except ValueError:\n",
    "            x = np.arange(-400, 400, 0.01)\n",
    "        for site, model in sites.items():\n",
    "            y = model.pdf(x)\n",
    "            fig.add_trace(go.Scatter(x=x, y=y, mode='lines'))\n",
    "            print(pol, site)\n",
    "        fig.update_layout(\n",
    "            **FIGURE_LAYOUT,\n",
    "            width=800,\n",
    "            height=800,\n",
    "            title={\n",
    "                'text': pol\n",
    "            }\n",
    "        )\n",
    "        #fig.write_image(f'img/{pol} dist.pdf')\n",
    "        fig.show()\n",
    "\n",
    "\n",
    "def plot_results(study):\n",
    "    with Path(f'{study}.pkl').open('rb') as file:\n",
    "        df = pickle.load(file)\n",
    "    if study == \"Bushy Park\":\n",
    "        df = df[df['Comparison'].isin([\n",
    "            'NPL AQMesh A vs AirView Reference B', 'NPL AQMesh B vs AirView Reference B',\n",
    "            'NPL AQMesh A vs AirView Reference A', 'NPL AQMesh B vs AirView Reference A',\n",
    "            'NPL AQMesh A vs Bushy Park FDMS', 'NPL AQMesh B vs Bushy Park FDMS',\n",
    "            'NPL AQMesh A vs Bushy Park OPC', 'NPL AQMesh B vs Bushy Park OPC',\n",
    "        ])]\n",
    "    df = df[df['Pollutant'].isin(['PM2.5', 'PM10', 'NO2', 'O3'])]\n",
    "    fig = go.Figure()\n",
    "    x = df['Residual Sum of Squares']\n",
    "    y = df['Median Error']\n",
    "    fig.add_trace(go.Scatter(x=x, y=y, mode='markers'))\n",
    "\n",
    "    fig.update_layout(\n",
    "        **FIGURE_LAYOUT,\n",
    "        width=800,\n",
    "        height=800\n",
    "    )\n",
    "    fig.update_xaxes(type='log', title='Residual Sum of Squares')\n",
    "    fig.update_yaxes(type='log', title='Median nRMSE')\n",
    "    # fig.write_image(f'img/{pol} dist.pdf')\n",
    "    fig.show()\n",
    "\n",
    "plot_results('Bushy Park')\n",
    "plot_results('Cranfield')"
   ]
  },
  {
   "cell_type": "code",
   "execution_count": null,
   "id": "fb025f22-4919-424a-b5b4-4f617c13932e",
   "metadata": {},
   "outputs": [],
   "source": []
  }
 ],
 "metadata": {
  "kernelspec": {
   "display_name": "Python 3 (ipykernel)",
   "language": "python",
   "name": "python3"
  },
  "language_info": {
   "codemirror_mode": {
    "name": "ipython",
    "version": 3
   },
   "file_extension": ".py",
   "mimetype": "text/x-python",
   "name": "python",
   "nbconvert_exporter": "python",
   "pygments_lexer": "ipython3",
   "version": "3.11.9"
  }
 },
 "nbformat": 4,
 "nbformat_minor": 5
}
